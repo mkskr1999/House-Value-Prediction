{
 "cells": [
  {
   "cell_type": "code",
   "execution_count": 1,
   "id": "829a3c70",
   "metadata": {},
   "outputs": [
    {
     "name": "stdout",
     "output_type": "stream",
     "text": [
      "Note: you may need to restart the kernel to use updated packages.\n"
     ]
    },
    {
     "name": "stderr",
     "output_type": "stream",
     "text": [
      "ERROR: Could not find a version that satisfies the requirement dtreeviz.trees (from versions: none)\n",
      "ERROR: No matching distribution found for dtreeviz.trees\n"
     ]
    }
   ],
   "source": [
    "pip install dtreeviz.trees"
   ]
  },
  {
   "cell_type": "code",
   "execution_count": 2,
   "id": "b77eaf10",
   "metadata": {},
   "outputs": [],
   "source": [
    "import pandas as pd\n",
    "import requests\n",
    "import numpy as np\n",
    "import matplotlib.pyplot as plt\n",
    "import seaborn as sns\n",
    "from sklearn.preprocessing import MinMaxScaler\n",
    "from sklearn.cluster import KMeans\n",
    "from sklearn.decomposition import PCA\n",
    "import statistics as stat\n",
    "import matplotlib.cm as cm\n",
    "from sklearn.metrics import silhouette_samples, silhouette_score\n",
    "from sklearn.cluster import KMeans , AgglomerativeClustering, DBSCAN\n",
    "import graphviz\n",
    "from sklearn.svm import SVC\n",
    "from sklearn.metrics import accuracy_score"
   ]
  },
  {
   "cell_type": "code",
   "execution_count": 3,
   "id": "72ee93cf",
   "metadata": {},
   "outputs": [
    {
     "data": {
      "text/html": [
       "<div>\n",
       "<style scoped>\n",
       "    .dataframe tbody tr th:only-of-type {\n",
       "        vertical-align: middle;\n",
       "    }\n",
       "\n",
       "    .dataframe tbody tr th {\n",
       "        vertical-align: top;\n",
       "    }\n",
       "\n",
       "    .dataframe thead th {\n",
       "        text-align: right;\n",
       "    }\n",
       "</style>\n",
       "<table border=\"1\" class=\"dataframe\">\n",
       "  <thead>\n",
       "    <tr style=\"text-align: right;\">\n",
       "      <th></th>\n",
       "      <th>bathrooms</th>\n",
       "      <th>bedrooms</th>\n",
       "      <th>city</th>\n",
       "      <th>country</th>\n",
       "      <th>currency</th>\n",
       "      <th>latitude</th>\n",
       "      <th>livingArea</th>\n",
       "      <th>longitude</th>\n",
       "      <th>lotAreaUnit</th>\n",
       "      <th>priceForHDP</th>\n",
       "      <th>rentZestimate</th>\n",
       "      <th>state</th>\n",
       "      <th>streetAddress</th>\n",
       "      <th>taxAssessedValue</th>\n",
       "      <th>zestimate</th>\n",
       "      <th>zipcode</th>\n",
       "      <th>priceinmil</th>\n",
       "      <th>lotArea</th>\n",
       "    </tr>\n",
       "  </thead>\n",
       "  <tbody>\n",
       "    <tr>\n",
       "      <th>0</th>\n",
       "      <td>4.0</td>\n",
       "      <td>4.0</td>\n",
       "      <td>Denver</td>\n",
       "      <td>USA</td>\n",
       "      <td>USD</td>\n",
       "      <td>39.724728</td>\n",
       "      <td>2202.0</td>\n",
       "      <td>-104.959140</td>\n",
       "      <td>sqft</td>\n",
       "      <td>1500000.0</td>\n",
       "      <td>3170.0</td>\n",
       "      <td>CO</td>\n",
       "      <td>530 University Boulevard</td>\n",
       "      <td>726200.0</td>\n",
       "      <td>1031000.0</td>\n",
       "      <td>80206</td>\n",
       "      <td>1.5000</td>\n",
       "      <td>3.6290</td>\n",
       "    </tr>\n",
       "    <tr>\n",
       "      <th>1</th>\n",
       "      <td>3.0</td>\n",
       "      <td>4.0</td>\n",
       "      <td>Denver</td>\n",
       "      <td>USA</td>\n",
       "      <td>USD</td>\n",
       "      <td>39.648630</td>\n",
       "      <td>2659.0</td>\n",
       "      <td>-105.055405</td>\n",
       "      <td>sqft</td>\n",
       "      <td>725000.0</td>\n",
       "      <td>2429.0</td>\n",
       "      <td>CO</td>\n",
       "      <td>3781 S Benton Way</td>\n",
       "      <td>444900.0</td>\n",
       "      <td>455700.0</td>\n",
       "      <td>80235</td>\n",
       "      <td>0.7250</td>\n",
       "      <td>12.2150</td>\n",
       "    </tr>\n",
       "    <tr>\n",
       "      <th>2</th>\n",
       "      <td>5.0</td>\n",
       "      <td>4.0</td>\n",
       "      <td>Denver</td>\n",
       "      <td>USA</td>\n",
       "      <td>USD</td>\n",
       "      <td>39.770897</td>\n",
       "      <td>3991.0</td>\n",
       "      <td>-105.013214</td>\n",
       "      <td>sqft</td>\n",
       "      <td>1800000.0</td>\n",
       "      <td>7454.0</td>\n",
       "      <td>CO</td>\n",
       "      <td>3926 Vallejo Street</td>\n",
       "      <td>621200.0</td>\n",
       "      <td>1395200.0</td>\n",
       "      <td>80211</td>\n",
       "      <td>1.8000</td>\n",
       "      <td>6.2500</td>\n",
       "    </tr>\n",
       "    <tr>\n",
       "      <th>3</th>\n",
       "      <td>5.0</td>\n",
       "      <td>6.0</td>\n",
       "      <td>Denver</td>\n",
       "      <td>USA</td>\n",
       "      <td>USD</td>\n",
       "      <td>39.665450</td>\n",
       "      <td>3838.0</td>\n",
       "      <td>-104.963524</td>\n",
       "      <td>sqft</td>\n",
       "      <td>1500000.0</td>\n",
       "      <td>3746.0</td>\n",
       "      <td>CO</td>\n",
       "      <td>2832 S Race Street</td>\n",
       "      <td>712500.0</td>\n",
       "      <td>1474576.0</td>\n",
       "      <td>80210</td>\n",
       "      <td>1.5000</td>\n",
       "      <td>8.7120</td>\n",
       "    </tr>\n",
       "    <tr>\n",
       "      <th>4</th>\n",
       "      <td>3.0</td>\n",
       "      <td>4.0</td>\n",
       "      <td>Denver</td>\n",
       "      <td>USA</td>\n",
       "      <td>USD</td>\n",
       "      <td>39.769943</td>\n",
       "      <td>2292.0</td>\n",
       "      <td>-105.021260</td>\n",
       "      <td>sqft</td>\n",
       "      <td>1200000.0</td>\n",
       "      <td>3405.0</td>\n",
       "      <td>CO</td>\n",
       "      <td>2730 W Denver Place</td>\n",
       "      <td>216300.0</td>\n",
       "      <td>870300.0</td>\n",
       "      <td>80211</td>\n",
       "      <td>1.2000</td>\n",
       "      <td>4.9050</td>\n",
       "    </tr>\n",
       "    <tr>\n",
       "      <th>...</th>\n",
       "      <td>...</td>\n",
       "      <td>...</td>\n",
       "      <td>...</td>\n",
       "      <td>...</td>\n",
       "      <td>...</td>\n",
       "      <td>...</td>\n",
       "      <td>...</td>\n",
       "      <td>...</td>\n",
       "      <td>...</td>\n",
       "      <td>...</td>\n",
       "      <td>...</td>\n",
       "      <td>...</td>\n",
       "      <td>...</td>\n",
       "      <td>...</td>\n",
       "      <td>...</td>\n",
       "      <td>...</td>\n",
       "      <td>...</td>\n",
       "      <td>...</td>\n",
       "    </tr>\n",
       "    <tr>\n",
       "      <th>838</th>\n",
       "      <td>2.0</td>\n",
       "      <td>3.0</td>\n",
       "      <td>Mills</td>\n",
       "      <td>USA</td>\n",
       "      <td>USD</td>\n",
       "      <td>42.835503</td>\n",
       "      <td>3372.0</td>\n",
       "      <td>-106.413000</td>\n",
       "      <td>sqft</td>\n",
       "      <td>449900.0</td>\n",
       "      <td>2128.0</td>\n",
       "      <td>WY</td>\n",
       "      <td>1302 River Heights Dr</td>\n",
       "      <td>327731.0</td>\n",
       "      <td>431700.0</td>\n",
       "      <td>82604</td>\n",
       "      <td>0.4499</td>\n",
       "      <td>11.7612</td>\n",
       "    </tr>\n",
       "    <tr>\n",
       "      <th>839</th>\n",
       "      <td>2.0</td>\n",
       "      <td>4.0</td>\n",
       "      <td>Douglas</td>\n",
       "      <td>USA</td>\n",
       "      <td>USD</td>\n",
       "      <td>42.763844</td>\n",
       "      <td>2304.0</td>\n",
       "      <td>-105.382230</td>\n",
       "      <td>sqft</td>\n",
       "      <td>110000.0</td>\n",
       "      <td>1935.0</td>\n",
       "      <td>WY</td>\n",
       "      <td>403 N 4th St</td>\n",
       "      <td>135752.0</td>\n",
       "      <td>169900.0</td>\n",
       "      <td>82633</td>\n",
       "      <td>0.1100</td>\n",
       "      <td>11.3256</td>\n",
       "    </tr>\n",
       "    <tr>\n",
       "      <th>840</th>\n",
       "      <td>2.0</td>\n",
       "      <td>3.0</td>\n",
       "      <td>Evanston</td>\n",
       "      <td>USA</td>\n",
       "      <td>USD</td>\n",
       "      <td>41.254820</td>\n",
       "      <td>1150.0</td>\n",
       "      <td>-110.959460</td>\n",
       "      <td>sqft</td>\n",
       "      <td>159000.0</td>\n",
       "      <td>1195.0</td>\n",
       "      <td>WY</td>\n",
       "      <td>801 Sioux Dr</td>\n",
       "      <td>114419.0</td>\n",
       "      <td>149900.0</td>\n",
       "      <td>82930</td>\n",
       "      <td>0.1590</td>\n",
       "      <td>0.5760</td>\n",
       "    </tr>\n",
       "    <tr>\n",
       "      <th>841</th>\n",
       "      <td>4.0</td>\n",
       "      <td>6.0</td>\n",
       "      <td>Gillette</td>\n",
       "      <td>USA</td>\n",
       "      <td>USD</td>\n",
       "      <td>44.245415</td>\n",
       "      <td>5022.0</td>\n",
       "      <td>-105.562035</td>\n",
       "      <td>sqft</td>\n",
       "      <td>998000.0</td>\n",
       "      <td>3622.0</td>\n",
       "      <td>WY</td>\n",
       "      <td>5221 Rocky Point Dr</td>\n",
       "      <td>638339.0</td>\n",
       "      <td>728600.0</td>\n",
       "      <td>82718</td>\n",
       "      <td>0.9980</td>\n",
       "      <td>424.2744</td>\n",
       "    </tr>\n",
       "    <tr>\n",
       "      <th>842</th>\n",
       "      <td>1.0</td>\n",
       "      <td>2.0</td>\n",
       "      <td>Casper</td>\n",
       "      <td>USA</td>\n",
       "      <td>USD</td>\n",
       "      <td>42.836254</td>\n",
       "      <td>640.0</td>\n",
       "      <td>-106.352700</td>\n",
       "      <td>sqft</td>\n",
       "      <td>183000.0</td>\n",
       "      <td>926.0</td>\n",
       "      <td>WY</td>\n",
       "      <td>1401 Sheridan Dr</td>\n",
       "      <td>65568.0</td>\n",
       "      <td>175424.0</td>\n",
       "      <td>82604</td>\n",
       "      <td>0.1830</td>\n",
       "      <td>5.2000</td>\n",
       "    </tr>\n",
       "  </tbody>\n",
       "</table>\n",
       "<p>843 rows × 18 columns</p>\n",
       "</div>"
      ],
      "text/plain": [
       "     bathrooms  bedrooms      city country currency   latitude  livingArea  \\\n",
       "0          4.0       4.0    Denver     USA      USD  39.724728      2202.0   \n",
       "1          3.0       4.0    Denver     USA      USD  39.648630      2659.0   \n",
       "2          5.0       4.0    Denver     USA      USD  39.770897      3991.0   \n",
       "3          5.0       6.0    Denver     USA      USD  39.665450      3838.0   \n",
       "4          3.0       4.0    Denver     USA      USD  39.769943      2292.0   \n",
       "..         ...       ...       ...     ...      ...        ...         ...   \n",
       "838        2.0       3.0     Mills     USA      USD  42.835503      3372.0   \n",
       "839        2.0       4.0   Douglas     USA      USD  42.763844      2304.0   \n",
       "840        2.0       3.0  Evanston     USA      USD  41.254820      1150.0   \n",
       "841        4.0       6.0  Gillette     USA      USD  44.245415      5022.0   \n",
       "842        1.0       2.0    Casper     USA      USD  42.836254       640.0   \n",
       "\n",
       "      longitude lotAreaUnit  priceForHDP  rentZestimate state  \\\n",
       "0   -104.959140        sqft    1500000.0         3170.0    CO   \n",
       "1   -105.055405        sqft     725000.0         2429.0    CO   \n",
       "2   -105.013214        sqft    1800000.0         7454.0    CO   \n",
       "3   -104.963524        sqft    1500000.0         3746.0    CO   \n",
       "4   -105.021260        sqft    1200000.0         3405.0    CO   \n",
       "..          ...         ...          ...            ...   ...   \n",
       "838 -106.413000        sqft     449900.0         2128.0    WY   \n",
       "839 -105.382230        sqft     110000.0         1935.0    WY   \n",
       "840 -110.959460        sqft     159000.0         1195.0    WY   \n",
       "841 -105.562035        sqft     998000.0         3622.0    WY   \n",
       "842 -106.352700        sqft     183000.0          926.0    WY   \n",
       "\n",
       "                streetAddress  taxAssessedValue  zestimate  zipcode  \\\n",
       "0    530 University Boulevard          726200.0  1031000.0    80206   \n",
       "1           3781 S Benton Way          444900.0   455700.0    80235   \n",
       "2         3926 Vallejo Street          621200.0  1395200.0    80211   \n",
       "3          2832 S Race Street          712500.0  1474576.0    80210   \n",
       "4         2730 W Denver Place          216300.0   870300.0    80211   \n",
       "..                        ...               ...        ...      ...   \n",
       "838     1302 River Heights Dr          327731.0   431700.0    82604   \n",
       "839              403 N 4th St          135752.0   169900.0    82633   \n",
       "840              801 Sioux Dr          114419.0   149900.0    82930   \n",
       "841       5221 Rocky Point Dr          638339.0   728600.0    82718   \n",
       "842          1401 Sheridan Dr           65568.0   175424.0    82604   \n",
       "\n",
       "     priceinmil   lotArea  \n",
       "0        1.5000    3.6290  \n",
       "1        0.7250   12.2150  \n",
       "2        1.8000    6.2500  \n",
       "3        1.5000    8.7120  \n",
       "4        1.2000    4.9050  \n",
       "..          ...       ...  \n",
       "838      0.4499   11.7612  \n",
       "839      0.1100   11.3256  \n",
       "840      0.1590    0.5760  \n",
       "841      0.9980  424.2744  \n",
       "842      0.1830    5.2000  \n",
       "\n",
       "[843 rows x 18 columns]"
      ]
     },
     "execution_count": 3,
     "metadata": {},
     "output_type": "execute_result"
    }
   ],
   "source": [
    "Housing_Data=pd.read_csv('Housing_Data_5.csv')\n",
    "Housing_Data=Housing_Data.drop(columns=['Unnamed: 0'])\n",
    "Housing_Data"
   ]
  },
  {
   "cell_type": "code",
   "execution_count": 4,
   "id": "d6d195d2",
   "metadata": {},
   "outputs": [],
   "source": [
    "Housing_Data['range_1'] = pd.cut(Housing_Data['zestimate'], bins=[0,400000,800000,float('inf')], labels=['Low','Medium','High'])"
   ]
  },
  {
   "cell_type": "code",
   "execution_count": 5,
   "id": "b4b61f5b",
   "metadata": {
    "scrolled": true
   },
   "outputs": [
    {
     "name": "stdout",
     "output_type": "stream",
     "text": [
      "<class 'pandas.core.frame.DataFrame'>\n",
      "RangeIndex: 843 entries, 0 to 842\n",
      "Data columns (total 19 columns):\n",
      " #   Column            Non-Null Count  Dtype   \n",
      "---  ------            --------------  -----   \n",
      " 0   bathrooms         843 non-null    float64 \n",
      " 1   bedrooms          843 non-null    float64 \n",
      " 2   city              843 non-null    object  \n",
      " 3   country           843 non-null    object  \n",
      " 4   currency          843 non-null    object  \n",
      " 5   latitude          843 non-null    float64 \n",
      " 6   livingArea        843 non-null    float64 \n",
      " 7   longitude         843 non-null    float64 \n",
      " 8   lotAreaUnit       843 non-null    object  \n",
      " 9   priceForHDP       843 non-null    float64 \n",
      " 10  rentZestimate     843 non-null    float64 \n",
      " 11  state             843 non-null    object  \n",
      " 12  streetAddress     843 non-null    object  \n",
      " 13  taxAssessedValue  843 non-null    float64 \n",
      " 14  zestimate         843 non-null    float64 \n",
      " 15  zipcode           843 non-null    int64   \n",
      " 16  priceinmil        843 non-null    float64 \n",
      " 17  lotArea           843 non-null    float64 \n",
      " 18  range_1           843 non-null    category\n",
      "dtypes: category(1), float64(11), int64(1), object(6)\n",
      "memory usage: 119.6+ KB\n"
     ]
    }
   ],
   "source": [
    "Housing_Data.info()"
   ]
  },
  {
   "cell_type": "code",
   "execution_count": 6,
   "id": "38ab7bb2",
   "metadata": {},
   "outputs": [],
   "source": [
    "Housing_Data['range_1'] = Housing_Data['range_1'].astype('category').cat.codes"
   ]
  },
  {
   "cell_type": "code",
   "execution_count": 7,
   "id": "42d3692f",
   "metadata": {},
   "outputs": [
    {
     "data": {
      "text/plain": [
       "0    512\n",
       "1    237\n",
       "2     94\n",
       "Name: range_1, dtype: int64"
      ]
     },
     "execution_count": 7,
     "metadata": {},
     "output_type": "execute_result"
    }
   ],
   "source": [
    "counts = Housing_Data['range_1'].value_counts()\n",
    "counts"
   ]
  },
  {
   "cell_type": "code",
   "execution_count": 8,
   "id": "aff8162f",
   "metadata": {},
   "outputs": [],
   "source": [
    "Housing_Data_1 = Housing_Data.select_dtypes(include='number')\n",
    "Housing_Data_1=Housing_Data_1.drop(columns=['longitude'])"
   ]
  },
  {
   "cell_type": "code",
   "execution_count": 9,
   "id": "b17262f3",
   "metadata": {},
   "outputs": [
    {
     "data": {
      "text/html": [
       "<div>\n",
       "<style scoped>\n",
       "    .dataframe tbody tr th:only-of-type {\n",
       "        vertical-align: middle;\n",
       "    }\n",
       "\n",
       "    .dataframe tbody tr th {\n",
       "        vertical-align: top;\n",
       "    }\n",
       "\n",
       "    .dataframe thead th {\n",
       "        text-align: right;\n",
       "    }\n",
       "</style>\n",
       "<table border=\"1\" class=\"dataframe\">\n",
       "  <thead>\n",
       "    <tr style=\"text-align: right;\">\n",
       "      <th></th>\n",
       "      <th>bathrooms</th>\n",
       "      <th>bedrooms</th>\n",
       "      <th>latitude</th>\n",
       "      <th>livingArea</th>\n",
       "      <th>priceForHDP</th>\n",
       "      <th>rentZestimate</th>\n",
       "      <th>taxAssessedValue</th>\n",
       "      <th>zestimate</th>\n",
       "      <th>zipcode</th>\n",
       "      <th>priceinmil</th>\n",
       "      <th>lotArea</th>\n",
       "      <th>range_1</th>\n",
       "    </tr>\n",
       "  </thead>\n",
       "  <tbody>\n",
       "    <tr>\n",
       "      <th>493</th>\n",
       "      <td>1.0</td>\n",
       "      <td>3.0</td>\n",
       "      <td>37.090595</td>\n",
       "      <td>1077.0</td>\n",
       "      <td>137500.0</td>\n",
       "      <td>816.0</td>\n",
       "      <td>46770.0</td>\n",
       "      <td>130755.0</td>\n",
       "      <td>64801</td>\n",
       "      <td>0.1375</td>\n",
       "      <td>12.196800</td>\n",
       "      <td>0</td>\n",
       "    </tr>\n",
       "    <tr>\n",
       "      <th>215</th>\n",
       "      <td>3.0</td>\n",
       "      <td>4.0</td>\n",
       "      <td>32.916492</td>\n",
       "      <td>2035.0</td>\n",
       "      <td>372000.0</td>\n",
       "      <td>2185.0</td>\n",
       "      <td>198732.0</td>\n",
       "      <td>372000.0</td>\n",
       "      <td>29420</td>\n",
       "      <td>0.3720</td>\n",
       "      <td>10.018800</td>\n",
       "      <td>0</td>\n",
       "    </tr>\n",
       "    <tr>\n",
       "      <th>622</th>\n",
       "      <td>3.0</td>\n",
       "      <td>4.0</td>\n",
       "      <td>46.908290</td>\n",
       "      <td>2896.0</td>\n",
       "      <td>299000.0</td>\n",
       "      <td>2166.0</td>\n",
       "      <td>296300.0</td>\n",
       "      <td>357800.0</td>\n",
       "      <td>58401</td>\n",
       "      <td>0.2990</td>\n",
       "      <td>18.600120</td>\n",
       "      <td>0</td>\n",
       "    </tr>\n",
       "    <tr>\n",
       "      <th>737</th>\n",
       "      <td>1.0</td>\n",
       "      <td>2.0</td>\n",
       "      <td>38.661960</td>\n",
       "      <td>960.0</td>\n",
       "      <td>224900.0</td>\n",
       "      <td>1150.0</td>\n",
       "      <td>100794.0</td>\n",
       "      <td>168600.0</td>\n",
       "      <td>84724</td>\n",
       "      <td>0.2249</td>\n",
       "      <td>40.075200</td>\n",
       "      <td>0</td>\n",
       "    </tr>\n",
       "    <tr>\n",
       "      <th>63</th>\n",
       "      <td>2.0</td>\n",
       "      <td>4.0</td>\n",
       "      <td>29.578120</td>\n",
       "      <td>2253.0</td>\n",
       "      <td>225000.0</td>\n",
       "      <td>2199.0</td>\n",
       "      <td>223335.0</td>\n",
       "      <td>225000.0</td>\n",
       "      <td>77089</td>\n",
       "      <td>0.2250</td>\n",
       "      <td>7.819020</td>\n",
       "      <td>0</td>\n",
       "    </tr>\n",
       "    <tr>\n",
       "      <th>...</th>\n",
       "      <td>...</td>\n",
       "      <td>...</td>\n",
       "      <td>...</td>\n",
       "      <td>...</td>\n",
       "      <td>...</td>\n",
       "      <td>...</td>\n",
       "      <td>...</td>\n",
       "      <td>...</td>\n",
       "      <td>...</td>\n",
       "      <td>...</td>\n",
       "      <td>...</td>\n",
       "      <td>...</td>\n",
       "    </tr>\n",
       "    <tr>\n",
       "      <th>71</th>\n",
       "      <td>4.0</td>\n",
       "      <td>4.0</td>\n",
       "      <td>32.827625</td>\n",
       "      <td>3660.0</td>\n",
       "      <td>750000.0</td>\n",
       "      <td>2034.0</td>\n",
       "      <td>361890.0</td>\n",
       "      <td>740859.0</td>\n",
       "      <td>75218</td>\n",
       "      <td>0.7500</td>\n",
       "      <td>22.259160</td>\n",
       "      <td>1</td>\n",
       "    </tr>\n",
       "    <tr>\n",
       "      <th>106</th>\n",
       "      <td>4.0</td>\n",
       "      <td>4.0</td>\n",
       "      <td>33.459800</td>\n",
       "      <td>2380.0</td>\n",
       "      <td>770000.0</td>\n",
       "      <td>3300.0</td>\n",
       "      <td>442600.0</td>\n",
       "      <td>749084.0</td>\n",
       "      <td>85257</td>\n",
       "      <td>0.7700</td>\n",
       "      <td>2.962080</td>\n",
       "      <td>1</td>\n",
       "    </tr>\n",
       "    <tr>\n",
       "      <th>270</th>\n",
       "      <td>3.0</td>\n",
       "      <td>3.0</td>\n",
       "      <td>38.881073</td>\n",
       "      <td>2094.0</td>\n",
       "      <td>1750000.0</td>\n",
       "      <td>4800.0</td>\n",
       "      <td>975850.0</td>\n",
       "      <td>1705626.0</td>\n",
       "      <td>20003</td>\n",
       "      <td>1.7500</td>\n",
       "      <td>1.194000</td>\n",
       "      <td>2</td>\n",
       "    </tr>\n",
       "    <tr>\n",
       "      <th>435</th>\n",
       "      <td>2.0</td>\n",
       "      <td>3.0</td>\n",
       "      <td>42.579037</td>\n",
       "      <td>1970.0</td>\n",
       "      <td>345000.0</td>\n",
       "      <td>2499.0</td>\n",
       "      <td>229300.0</td>\n",
       "      <td>347300.0</td>\n",
       "      <td>1440</td>\n",
       "      <td>0.3450</td>\n",
       "      <td>16.903000</td>\n",
       "      <td>0</td>\n",
       "    </tr>\n",
       "    <tr>\n",
       "      <th>102</th>\n",
       "      <td>2.0</td>\n",
       "      <td>3.0</td>\n",
       "      <td>30.662672</td>\n",
       "      <td>1809.0</td>\n",
       "      <td>109900.0</td>\n",
       "      <td>1150.0</td>\n",
       "      <td>81000.0</td>\n",
       "      <td>105000.0</td>\n",
       "      <td>36609</td>\n",
       "      <td>0.1099</td>\n",
       "      <td>8.367876</td>\n",
       "      <td>0</td>\n",
       "    </tr>\n",
       "  </tbody>\n",
       "</table>\n",
       "<p>843 rows × 12 columns</p>\n",
       "</div>"
      ],
      "text/plain": [
       "     bathrooms  bedrooms   latitude  livingArea  priceForHDP  rentZestimate  \\\n",
       "493        1.0       3.0  37.090595      1077.0     137500.0          816.0   \n",
       "215        3.0       4.0  32.916492      2035.0     372000.0         2185.0   \n",
       "622        3.0       4.0  46.908290      2896.0     299000.0         2166.0   \n",
       "737        1.0       2.0  38.661960       960.0     224900.0         1150.0   \n",
       "63         2.0       4.0  29.578120      2253.0     225000.0         2199.0   \n",
       "..         ...       ...        ...         ...          ...            ...   \n",
       "71         4.0       4.0  32.827625      3660.0     750000.0         2034.0   \n",
       "106        4.0       4.0  33.459800      2380.0     770000.0         3300.0   \n",
       "270        3.0       3.0  38.881073      2094.0    1750000.0         4800.0   \n",
       "435        2.0       3.0  42.579037      1970.0     345000.0         2499.0   \n",
       "102        2.0       3.0  30.662672      1809.0     109900.0         1150.0   \n",
       "\n",
       "     taxAssessedValue  zestimate  zipcode  priceinmil    lotArea  range_1  \n",
       "493           46770.0   130755.0    64801      0.1375  12.196800        0  \n",
       "215          198732.0   372000.0    29420      0.3720  10.018800        0  \n",
       "622          296300.0   357800.0    58401      0.2990  18.600120        0  \n",
       "737          100794.0   168600.0    84724      0.2249  40.075200        0  \n",
       "63           223335.0   225000.0    77089      0.2250   7.819020        0  \n",
       "..                ...        ...      ...         ...        ...      ...  \n",
       "71           361890.0   740859.0    75218      0.7500  22.259160        1  \n",
       "106          442600.0   749084.0    85257      0.7700   2.962080        1  \n",
       "270          975850.0  1705626.0    20003      1.7500   1.194000        2  \n",
       "435          229300.0   347300.0     1440      0.3450  16.903000        0  \n",
       "102           81000.0   105000.0    36609      0.1099   8.367876        0  \n",
       "\n",
       "[843 rows x 12 columns]"
      ]
     },
     "execution_count": 9,
     "metadata": {},
     "output_type": "execute_result"
    }
   ],
   "source": [
    "Housing_Data_2 = Housing_Data_1.sample(n=843, random_state=42)\n",
    "Housing_Data_2"
   ]
  },
  {
   "cell_type": "code",
   "execution_count": 10,
   "id": "732a0a09",
   "metadata": {},
   "outputs": [
    {
     "name": "stdout",
     "output_type": "stream",
     "text": [
      "     bathrooms  bedrooms   latitude  livingArea  priceForHDP  rentZestimate  \\\n",
      "454        2.0       3.0  43.598564      1512.0     159000.0         1200.0   \n",
      "66         1.0       3.0  29.859964      1540.0     375000.0         1701.0   \n",
      "415        3.0       3.0  39.278915      2601.0     740000.0         5436.0   \n",
      "626        3.0       4.0  48.245220      2504.0     239900.0         1567.0   \n",
      "427        2.0       2.0  41.660660      1071.0     304900.0         2570.0   \n",
      "..         ...       ...        ...         ...          ...            ...   \n",
      "99         3.0       3.0  33.155422      1543.0     225000.0         1706.0   \n",
      "401        2.0       2.0  29.941345      1344.0     465000.0         3200.0   \n",
      "661        6.0       6.0  44.540787      2504.0     555000.0         3497.0   \n",
      "644        1.0       3.0  39.743652      1053.0      90000.0         1075.0   \n",
      "569        2.0       3.0  42.948370      1736.0     410000.0         2374.0   \n",
      "\n",
      "     taxAssessedValue  zestimate  zipcode  priceinmil    lotArea  range_1  \n",
      "454           85800.0   123000.0    48708      0.1590   3.920400        0  \n",
      "66           135510.0   343400.0    77049      0.3750  49.436244        0  \n",
      "415          748300.0   787100.0    21224      0.7400   0.871000        1  \n",
      "626          192000.0   235222.0    58703      0.2399   5.662800        0  \n",
      "427          164400.0   292000.0     2670      0.3049   0.000000        0  \n",
      "..                ...        ...      ...         ...        ...      ...  \n",
      "99           155800.0   225001.0    35115      0.2250   3.484800        0  \n",
      "401          346900.0   475300.0    70130      0.4650   0.470448        1  \n",
      "661          440860.0   551100.0    97370      0.5550   5.662800        1  \n",
      "644           73120.0   104100.0    45345      0.0900   9.148000        0  \n",
      "569          208000.0   420197.0     3109      0.4100  20.473200        1  \n",
      "\n",
      "[590 rows x 12 columns]\n",
      "     bathrooms  bedrooms   latitude  livingArea  priceForHDP  rentZestimate  \\\n",
      "304        1.0       3.0  41.089320      1064.0     125000.0         1183.0   \n",
      "491        1.0       2.0  38.438076      1138.0     125000.0          749.0   \n",
      "687        3.0       4.0  41.573757      2280.0     875000.0         3200.0   \n",
      "225        2.0       3.0  61.300920      1452.0     329000.0         2199.0   \n",
      "685        2.0       3.0  41.624676      1232.0     495000.0         2234.0   \n",
      "..         ...       ...        ...         ...          ...            ...   \n",
      "738        2.0       2.0  40.652447      1040.0     340000.0         1514.0   \n",
      "680        3.0       4.0  41.612057      3300.0    1724500.0         5007.0   \n",
      "412        5.0       3.0  39.112026      1638.0     730000.0         3349.0   \n",
      "481        4.0       4.0  30.512930      3240.0     449000.0         3040.0   \n",
      "371        5.0       4.0  38.878532      2901.0     430000.0         2780.0   \n",
      "\n",
      "     taxAssessedValue  zestimate  zipcode  priceinmil    lotArea  range_1  \n",
      "304           75900.0   100100.0    46808      0.1250   3.920400        0  \n",
      "491          121000.0   112700.0    65084      0.1250  14.261544        0  \n",
      "687          572700.0   827100.0     2871      0.8750  23.522000        2  \n",
      "225          247400.0   328869.0    99577      0.3290   0.000000        0  \n",
      "685          313600.0   428300.0     2817      0.4950  47.916000        1  \n",
      "..                ...        ...      ...         ...        ...      ...  \n",
      "738          219300.0   306500.0    84123      0.3400   0.435600        0  \n",
      "680          867600.0  1192200.0     2818      1.7245  87.120000        2  \n",
      "412          691000.0   730800.0    20878      0.7300   1.576000        1  \n",
      "481          294377.0   432200.0    39503      0.4490  23.522400        1  \n",
      "371          370000.0   435200.0    66062      0.4300  14.331000        1  \n",
      "\n",
      "[253 rows x 12 columns]\n"
     ]
    }
   ],
   "source": [
    "from sklearn.model_selection import train_test_split\n",
    "TrainDF, TestDF = train_test_split(Housing_Data_2, test_size=0.3)\n",
    "print(TrainDF)\n",
    "print(TestDF)"
   ]
  },
  {
   "cell_type": "code",
   "execution_count": 11,
   "id": "fe54e62f",
   "metadata": {},
   "outputs": [
    {
     "name": "stdout",
     "output_type": "stream",
     "text": [
      "304    0\n",
      "491    0\n",
      "687    2\n",
      "225    0\n",
      "685    1\n",
      "      ..\n",
      "738    0\n",
      "680    2\n",
      "412    1\n",
      "481    1\n",
      "371    1\n",
      "Name: range_1, Length: 253, dtype: int8\n",
      "     bathrooms  bedrooms   latitude  livingArea  priceForHDP  rentZestimate  \\\n",
      "304        1.0       3.0  41.089320      1064.0     125000.0         1183.0   \n",
      "491        1.0       2.0  38.438076      1138.0     125000.0          749.0   \n",
      "687        3.0       4.0  41.573757      2280.0     875000.0         3200.0   \n",
      "225        2.0       3.0  61.300920      1452.0     329000.0         2199.0   \n",
      "685        2.0       3.0  41.624676      1232.0     495000.0         2234.0   \n",
      "..         ...       ...        ...         ...          ...            ...   \n",
      "738        2.0       2.0  40.652447      1040.0     340000.0         1514.0   \n",
      "680        3.0       4.0  41.612057      3300.0    1724500.0         5007.0   \n",
      "412        5.0       3.0  39.112026      1638.0     730000.0         3349.0   \n",
      "481        4.0       4.0  30.512930      3240.0     449000.0         3040.0   \n",
      "371        5.0       4.0  38.878532      2901.0     430000.0         2780.0   \n",
      "\n",
      "     taxAssessedValue  zestimate  zipcode  priceinmil    lotArea  \n",
      "304           75900.0   100100.0    46808      0.1250   3.920400  \n",
      "491          121000.0   112700.0    65084      0.1250  14.261544  \n",
      "687          572700.0   827100.0     2871      0.8750  23.522000  \n",
      "225          247400.0   328869.0    99577      0.3290   0.000000  \n",
      "685          313600.0   428300.0     2817      0.4950  47.916000  \n",
      "..                ...        ...      ...         ...        ...  \n",
      "738          219300.0   306500.0    84123      0.3400   0.435600  \n",
      "680          867600.0  1192200.0     2818      1.7245  87.120000  \n",
      "412          691000.0   730800.0    20878      0.7300   1.576000  \n",
      "481          294377.0   432200.0    39503      0.4490  23.522400  \n",
      "371          370000.0   435200.0    66062      0.4300  14.331000  \n",
      "\n",
      "[253 rows x 11 columns]\n",
      "454    0\n",
      "66     0\n",
      "415    1\n",
      "626    0\n",
      "427    0\n",
      "      ..\n",
      "99     0\n",
      "401    1\n",
      "661    1\n",
      "644    0\n",
      "569    1\n",
      "Name: range_1, Length: 590, dtype: int8\n",
      "     bathrooms  bedrooms   latitude  livingArea  priceForHDP  rentZestimate  \\\n",
      "454        2.0       3.0  43.598564      1512.0     159000.0         1200.0   \n",
      "66         1.0       3.0  29.859964      1540.0     375000.0         1701.0   \n",
      "415        3.0       3.0  39.278915      2601.0     740000.0         5436.0   \n",
      "626        3.0       4.0  48.245220      2504.0     239900.0         1567.0   \n",
      "427        2.0       2.0  41.660660      1071.0     304900.0         2570.0   \n",
      "..         ...       ...        ...         ...          ...            ...   \n",
      "99         3.0       3.0  33.155422      1543.0     225000.0         1706.0   \n",
      "401        2.0       2.0  29.941345      1344.0     465000.0         3200.0   \n",
      "661        6.0       6.0  44.540787      2504.0     555000.0         3497.0   \n",
      "644        1.0       3.0  39.743652      1053.0      90000.0         1075.0   \n",
      "569        2.0       3.0  42.948370      1736.0     410000.0         2374.0   \n",
      "\n",
      "     taxAssessedValue  zestimate  zipcode  priceinmil    lotArea  \n",
      "454           85800.0   123000.0    48708      0.1590   3.920400  \n",
      "66           135510.0   343400.0    77049      0.3750  49.436244  \n",
      "415          748300.0   787100.0    21224      0.7400   0.871000  \n",
      "626          192000.0   235222.0    58703      0.2399   5.662800  \n",
      "427          164400.0   292000.0     2670      0.3049   0.000000  \n",
      "..                ...        ...      ...         ...        ...  \n",
      "99           155800.0   225001.0    35115      0.2250   3.484800  \n",
      "401          346900.0   475300.0    70130      0.4650   0.470448  \n",
      "661          440860.0   551100.0    97370      0.5550   5.662800  \n",
      "644           73120.0   104100.0    45345      0.0900   9.148000  \n",
      "569          208000.0   420197.0     3109      0.4100  20.473200  \n",
      "\n",
      "[590 rows x 11 columns]\n"
     ]
    }
   ],
   "source": [
    "Test1Labels=TestDF[\"range_1\"]\n",
    "print(Test1Labels)\n",
    "## remove labels\n",
    "TestDF1 = TestDF.drop([\"range_1\"], axis=1)\n",
    "print(TestDF1)\n",
    "\n",
    "## TRAIN ----------------------------\n",
    "Train1Labels=TrainDF[\"range_1\"]\n",
    "print(Train1Labels)\n",
    "## remove labels\n",
    "TrainDF1 = TrainDF.drop([\"range_1\"], axis=1)\n",
    "print(TrainDF1)"
   ]
  },
  {
   "cell_type": "code",
   "execution_count": 12,
   "id": "2632c29b",
   "metadata": {},
   "outputs": [],
   "source": [
    "from sklearn.tree import DecisionTreeClassifier\n",
    "from sklearn import tree\n",
    "import matplotlib.pyplot as plt\n",
    "## conda install python-graphviz\n",
    "## restart kernel (click the little red x next to the Console)\n",
    "#import graphviz \n",
    "from sklearn.metrics import confusion_matrix\n",
    "MyDT=DecisionTreeClassifier(criterion='entropy', ##\"entropy\" or \"gini\"\n",
    "                            splitter='best',\n",
    "                           max_depth=2,\n",
    "                           class_weight=None)"
   ]
  },
  {
   "cell_type": "code",
   "execution_count": 13,
   "id": "2c212d6c",
   "metadata": {},
   "outputs": [
    {
     "data": {
      "text/plain": [
       "DecisionTreeClassifier(criterion='entropy', max_depth=2)"
      ]
     },
     "execution_count": 13,
     "metadata": {},
     "output_type": "execute_result"
    }
   ],
   "source": [
    "MyDT.fit(TrainDF, Train1Labels)"
   ]
  },
  {
   "cell_type": "code",
   "execution_count": 14,
   "id": "f1b75616",
   "metadata": {},
   "outputs": [
    {
     "data": {
      "text/plain": [
       "[Text(0.4, 0.8333333333333334, 'X[11] <= 0.5\\nentropy = 1.312\\nsamples = 590\\nvalue = [359, 161, 70]'),\n",
       " Text(0.2, 0.5, 'entropy = 0.0\\nsamples = 359\\nvalue = [359, 0, 0]'),\n",
       " Text(0.6, 0.5, 'X[7] <= 803300.0\\nentropy = 0.885\\nsamples = 231\\nvalue = [0, 161, 70]'),\n",
       " Text(0.4, 0.16666666666666666, 'entropy = 0.0\\nsamples = 161\\nvalue = [0, 161, 0]'),\n",
       " Text(0.8, 0.16666666666666666, 'entropy = 0.0\\nsamples = 70\\nvalue = [0, 0, 70]')]"
      ]
     },
     "execution_count": 14,
     "metadata": {},
     "output_type": "execute_result"
    },
    {
     "data": {
      "image/png": "[encoded data removed]",
      "text/plain": [
       "<Figure size 640x480 with 1 Axes>"
      ]
     },
     "metadata": {},
     "output_type": "display_data"
    }
   ],
   "source": [
    " tree.plot_tree(MyDT)"
   ]
  },
  {
   "cell_type": "code",
   "execution_count": 15,
   "id": "3c35498d",
   "metadata": {},
   "outputs": [],
   "source": [
    "from sklearn.naive_bayes import MultinomialNB\n",
    "MyModelNB= MultinomialNB()\n",
    "NB1=MyModelNB.fit(TrainDF1, Train1Labels)\n",
    "Prediction1 = MyModelNB.predict(TestDF1)"
   ]
  },
  {
   "cell_type": "code",
   "execution_count": 16,
   "id": "2d17eed1",
   "metadata": {},
   "outputs": [
    {
     "name": "stdout",
     "output_type": "stream",
     "text": [
      "\n",
      "The confusion matrix is:\n",
      "[[117  25  11]\n",
      " [ 26  23  27]\n",
      " [  0   5  19]]\n"
     ]
    }
   ],
   "source": [
    "from sklearn.metrics import confusion_matrix\n",
    "\n",
    "cnf_matrix1 = confusion_matrix(Test1Labels, Prediction1)\n",
    "print(\"\\nThe confusion matrix is:\")\n",
    "print(cnf_matrix1)\n"
   ]
  },
  {
   "cell_type": "code",
   "execution_count": 17,
   "id": "bb567629",
   "metadata": {},
   "outputs": [
    {
     "data": {
      "image/png": "[encoded data removed]",
      "text/plain": [
       "<Figure size 640x480 with 2 Axes>"
      ]
     },
     "metadata": {},
     "output_type": "display_data"
    }
   ],
   "source": [
    "sns.heatmap(cnf_matrix1, annot=True, fmt='d', cmap='Blues')\n",
    "plt.xlabel('Predicted labels')\n",
    "plt.ylabel('True labels')\n",
    "plt.show()\n"
   ]
  },
  {
   "cell_type": "code",
   "execution_count": 18,
   "id": "a830567f",
   "metadata": {},
   "outputs": [
    {
     "name": "stdout",
     "output_type": "stream",
     "text": [
      "\n",
      "The Accuracy Score is:\n"
     ]
    },
    {
     "data": {
      "text/plain": [
       "0.9486166007905138"
      ]
     },
     "execution_count": 18,
     "metadata": {},
     "output_type": "execute_result"
    }
   ],
   "source": [
    "# SVM\n",
    "svm = SVC(kernel='rbf', C=1)\n",
    "svm.fit(TrainDF1, Train1Labels)\n",
    "pred= svm.predict(TestDF1)\n",
    "print(\"\\nThe Accuracy Score is:\")\n",
    "accuracy_score(Test1Labels,pred)"
   ]
  },
  {
   "cell_type": "code",
   "execution_count": 19,
   "id": "18cdaced",
   "metadata": {},
   "outputs": [
    {
     "name": "stdout",
     "output_type": "stream",
     "text": [
      "\n",
      "The confusion matrix is:\n",
      "[[150   3   0]\n",
      " [  7  68   1]\n",
      " [  0   2  22]]\n"
     ]
    }
   ],
   "source": [
    "cnf_matrix2 = confusion_matrix(Test1Labels, pred)\n",
    "print(\"\\nThe confusion matrix is:\")\n",
    "print(cnf_matrix2)"
   ]
  },
  {
   "cell_type": "code",
   "execution_count": 20,
   "id": "57eb8991",
   "metadata": {},
   "outputs": [
    {
     "data": {
      "image/png": "[encoded data removed]",
      "text/plain": [
       "<Figure size 640x480 with 2 Axes>"
      ]
     },
     "metadata": {},
     "output_type": "display_data"
    }
   ],
   "source": [
    "sns.heatmap(cnf_matrix2, annot=True, fmt='d', cmap='Blues')\n",
    "plt.xlabel('Predicted labels')\n",
    "plt.ylabel('True labels')\n",
    "plt.show()"
   ]
  },
  {
   "cell_type": "code",
   "execution_count": 21,
   "id": "c58e4861",
   "metadata": {},
   "outputs": [
    {
     "name": "stdout",
     "output_type": "stream",
     "text": [
      "\n",
      "The Accuracy Score is:\n"
     ]
    },
    {
     "data": {
      "text/plain": [
       "0.9525691699604744"
      ]
     },
     "execution_count": 21,
     "metadata": {},
     "output_type": "execute_result"
    }
   ],
   "source": [
    "svm = SVC(kernel='rbf', C=2)\n",
    "svm.fit(TrainDF1, Train1Labels)\n",
    "pred= svm.predict(TestDF1)\n",
    "print(\"\\nThe Accuracy Score is:\")\n",
    "accuracy_score(Test1Labels,pred)"
   ]
  },
  {
   "cell_type": "code",
   "execution_count": 22,
   "id": "ce69eebd",
   "metadata": {},
   "outputs": [
    {
     "name": "stdout",
     "output_type": "stream",
     "text": [
      "\n",
      "The confusion matrix is:\n",
      "[[150   3   0]\n",
      " [  8  67   1]\n",
      " [  0   0  24]]\n"
     ]
    }
   ],
   "source": [
    "cnf_matrix2 = confusion_matrix(Test1Labels, pred)\n",
    "print(\"\\nThe confusion matrix is:\")\n",
    "print(cnf_matrix2)"
   ]
  },
  {
   "cell_type": "code",
   "execution_count": 23,
   "id": "bc870fbc",
   "metadata": {},
   "outputs": [
    {
     "data": {
      "image/png": "[encoded data removed]",
      "text/plain": [
       "<Figure size 640x480 with 2 Axes>"
      ]
     },
     "metadata": {},
     "output_type": "display_data"
    }
   ],
   "source": [
    "sns.heatmap(cnf_matrix2, annot=True, fmt='d', cmap='Blues')\n",
    "plt.xlabel('Predicted labels')\n",
    "plt.ylabel('True labels')\n",
    "plt.show()"
   ]
  },
  {
   "cell_type": "code",
   "execution_count": 24,
   "id": "13818f6a",
   "metadata": {},
   "outputs": [
    {
     "name": "stdout",
     "output_type": "stream",
     "text": [
      "\n",
      "The Accuracy Score is:\n"
     ]
    },
    {
     "data": {
      "text/plain": [
       "0.9683794466403162"
      ]
     },
     "execution_count": 24,
     "metadata": {},
     "output_type": "execute_result"
    }
   ],
   "source": [
    "svm = SVC(kernel='rbf', C=3)\n",
    "svm.fit(TrainDF1, Train1Labels)\n",
    "pred= svm.predict(TestDF1)\n",
    "print(\"\\nThe Accuracy Score is:\")\n",
    "accuracy_score(Test1Labels,pred)"
   ]
  },
  {
   "cell_type": "code",
   "execution_count": 25,
   "id": "e16784d3",
   "metadata": {},
   "outputs": [
    {
     "name": "stdout",
     "output_type": "stream",
     "text": [
      "\n",
      "The confusion matrix is:\n",
      "[[150   3   0]\n",
      " [  5  71   0]\n",
      " [  0   0  24]]\n"
     ]
    }
   ],
   "source": [
    "cnf_matrix2 = confusion_matrix(Test1Labels, pred)\n",
    "print(\"\\nThe confusion matrix is:\")\n",
    "print(cnf_matrix2)"
   ]
  },
  {
   "cell_type": "code",
   "execution_count": 26,
   "id": "bd919f48",
   "metadata": {},
   "outputs": [
    {
     "data": {
      "image/png": "[encoded data removed]",
      "text/plain": [
       "<Figure size 640x480 with 2 Axes>"
      ]
     },
     "metadata": {},
     "output_type": "display_data"
    }
   ],
   "source": [
    "sns.heatmap(cnf_matrix2, annot=True, fmt='d', cmap='Blues')\n",
    "plt.xlabel('Predicted labels')\n",
    "plt.ylabel('True labels')\n",
    "plt.show()"
   ]
  },
  {
   "cell_type": "code",
   "execution_count": 27,
   "id": "91d60f5a",
   "metadata": {},
   "outputs": [
    {
     "name": "stdout",
     "output_type": "stream",
     "text": [
      "\n",
      "The Accuracy Score is:\n"
     ]
    },
    {
     "data": {
      "text/plain": [
       "0.9288537549407114"
      ]
     },
     "execution_count": 27,
     "metadata": {},
     "output_type": "execute_result"
    }
   ],
   "source": [
    "svm = SVC(kernel='poly', C=1)\n",
    "svm.fit(TrainDF1, Train1Labels)\n",
    "pred= svm.predict(TestDF1)\n",
    "print(\"\\nThe Accuracy Score is:\")\n",
    "accuracy_score(Test1Labels,pred)"
   ]
  },
  {
   "cell_type": "code",
   "execution_count": 28,
   "id": "6eebf014",
   "metadata": {},
   "outputs": [
    {
     "name": "stdout",
     "output_type": "stream",
     "text": [
      "\n",
      "The confusion matrix is:\n",
      "[[150   3   0]\n",
      " [ 15  61   0]\n",
      " [  0   0  24]]\n"
     ]
    }
   ],
   "source": [
    "cnf_matrix2 = confusion_matrix(Test1Labels, pred)\n",
    "print(\"\\nThe confusion matrix is:\")\n",
    "print(cnf_matrix2)"
   ]
  },
  {
   "cell_type": "code",
   "execution_count": 29,
   "id": "9903077a",
   "metadata": {},
   "outputs": [
    {
     "data": {
      "image/png": "[encoded data removed]",
      "text/plain": [
       "<Figure size 640x480 with 2 Axes>"
      ]
     },
     "metadata": {},
     "output_type": "display_data"
    }
   ],
   "source": [
    "sns.heatmap(cnf_matrix2, annot=True, fmt='d', cmap='Blues')\n",
    "plt.xlabel('Predicted labels')\n",
    "plt.ylabel('True labels')\n",
    "plt.show()"
   ]
  },
  {
   "cell_type": "code",
   "execution_count": 30,
   "id": "de8875b4",
   "metadata": {},
   "outputs": [
    {
     "name": "stdout",
     "output_type": "stream",
     "text": [
      "\n",
      "The Accuracy Score is:\n"
     ]
    },
    {
     "data": {
      "text/plain": [
       "0.932806324110672"
      ]
     },
     "execution_count": 30,
     "metadata": {},
     "output_type": "execute_result"
    }
   ],
   "source": [
    "svm = SVC(kernel='poly', C=2)\n",
    "svm.fit(TrainDF1, Train1Labels)\n",
    "pred= svm.predict(TestDF1)\n",
    "print(\"\\nThe Accuracy Score is:\")\n",
    "accuracy_score(Test1Labels,pred)"
   ]
  },
  {
   "cell_type": "code",
   "execution_count": 31,
   "id": "51a3dee3",
   "metadata": {},
   "outputs": [
    {
     "name": "stdout",
     "output_type": "stream",
     "text": [
      "\n",
      "The confusion matrix is:\n",
      "[[150   3   0]\n",
      " [ 14  62   0]\n",
      " [  0   0  24]]\n"
     ]
    }
   ],
   "source": [
    "cnf_matrix2 = confusion_matrix(Test1Labels, pred)\n",
    "print(\"\\nThe confusion matrix is:\")\n",
    "print(cnf_matrix2)"
   ]
  },
  {
   "cell_type": "code",
   "execution_count": 32,
   "id": "7bf77f21",
   "metadata": {},
   "outputs": [
    {
     "data": {
      "image/png": "[encoded data removed]",
      "text/plain": [
       "<Figure size 640x480 with 2 Axes>"
      ]
     },
     "metadata": {},
     "output_type": "display_data"
    }
   ],
   "source": [
    "sns.heatmap(cnf_matrix2, annot=True, fmt='d', cmap='Blues')\n",
    "plt.xlabel('Predicted labels')\n",
    "plt.ylabel('True labels')\n",
    "plt.show()"
   ]
  },
  {
   "cell_type": "code",
   "execution_count": 33,
   "id": "dc0154c9",
   "metadata": {},
   "outputs": [
    {
     "name": "stdout",
     "output_type": "stream",
     "text": [
      "\n",
      "The Accuracy Score is:\n"
     ]
    },
    {
     "data": {
      "text/plain": [
       "0.9407114624505929"
      ]
     },
     "execution_count": 33,
     "metadata": {},
     "output_type": "execute_result"
    }
   ],
   "source": [
    "svm = SVC(kernel='poly', C=3)\n",
    "svm.fit(TrainDF1, Train1Labels)\n",
    "pred= svm.predict(TestDF1)\n",
    "print(\"\\nThe Accuracy Score is:\")\n",
    "accuracy_score(Test1Labels,pred)"
   ]
  },
  {
   "cell_type": "code",
   "execution_count": 34,
   "id": "49aa9c39",
   "metadata": {},
   "outputs": [
    {
     "name": "stdout",
     "output_type": "stream",
     "text": [
      "\n",
      "The confusion matrix is:\n",
      "[[150   3   0]\n",
      " [ 12  64   0]\n",
      " [  0   0  24]]\n"
     ]
    }
   ],
   "source": [
    "cnf_matrix2 = confusion_matrix(Test1Labels, pred)\n",
    "print(\"\\nThe confusion matrix is:\")\n",
    "print(cnf_matrix2)"
   ]
  },
  {
   "cell_type": "code",
   "execution_count": 35,
   "id": "6437dbfa",
   "metadata": {},
   "outputs": [
    {
     "data": {
      "image/png": "[encoded data removed]",
      "text/plain": [
       "<Figure size 640x480 with 2 Axes>"
      ]
     },
     "metadata": {},
     "output_type": "display_data"
    }
   ],
   "source": [
    "sns.heatmap(cnf_matrix2, annot=True, fmt='d', cmap='Blues')\n",
    "plt.xlabel('Predicted labels')\n",
    "plt.ylabel('True labels')\n",
    "plt.show()"
   ]
  },
  {
   "cell_type": "code",
   "execution_count": 36,
   "id": "6e859591",
   "metadata": {},
   "outputs": [
    {
     "name": "stdout",
     "output_type": "stream",
     "text": [
      "\n",
      "The Accuracy Score is:\n"
     ]
    },
    {
     "data": {
      "text/plain": [
       "0.9960474308300395"
      ]
     },
     "execution_count": 36,
     "metadata": {},
     "output_type": "execute_result"
    }
   ],
   "source": [
    "svm = SVC(kernel='linear', C=1)\n",
    "svm.fit(TrainDF1, Train1Labels)\n",
    "pred= svm.predict(TestDF1)\n",
    "print(\"\\nThe Accuracy Score is:\")\n",
    "accuracy_score(Test1Labels,pred)"
   ]
  },
  {
   "cell_type": "code",
   "execution_count": 37,
   "id": "a943bd31",
   "metadata": {},
   "outputs": [
    {
     "name": "stdout",
     "output_type": "stream",
     "text": [
      "\n",
      "The confusion matrix is:\n",
      "[[153   0   0]\n",
      " [  0  75   1]\n",
      " [  0   0  24]]\n"
     ]
    }
   ],
   "source": [
    "cnf_matrix2 = confusion_matrix(Test1Labels, pred)\n",
    "print(\"\\nThe confusion matrix is:\")\n",
    "print(cnf_matrix2)"
   ]
  },
  {
   "cell_type": "code",
   "execution_count": 38,
   "id": "3425f384",
   "metadata": {},
   "outputs": [
    {
     "data": {
      "image/png": "[encoded data removed]",
      "text/plain": [
       "<Figure size 640x480 with 2 Axes>"
      ]
     },
     "metadata": {},
     "output_type": "display_data"
    }
   ],
   "source": [
    "sns.heatmap(cnf_matrix2, annot=True, fmt='d', cmap='Blues')\n",
    "plt.xlabel('Predicted labels')\n",
    "plt.ylabel('True labels')\n",
    "plt.show()"
   ]
  },
  {
   "cell_type": "code",
   "execution_count": 39,
   "id": "83a4f3bb",
   "metadata": {},
   "outputs": [
    {
     "name": "stdout",
     "output_type": "stream",
     "text": [
      "\n",
      "The Accuracy Score is:\n"
     ]
    },
    {
     "data": {
      "text/plain": [
       "0.9960474308300395"
      ]
     },
     "execution_count": 39,
     "metadata": {},
     "output_type": "execute_result"
    }
   ],
   "source": [
    "svm = SVC(kernel='linear', C=2)\n",
    "svm.fit(TrainDF1, Train1Labels)\n",
    "pred= svm.predict(TestDF1)\n",
    "print(\"\\nThe Accuracy Score is:\")\n",
    "accuracy_score(Test1Labels,pred)"
   ]
  },
  {
   "cell_type": "code",
   "execution_count": 40,
   "id": "f74e3cb8",
   "metadata": {},
   "outputs": [
    {
     "name": "stdout",
     "output_type": "stream",
     "text": [
      "\n",
      "The confusion matrix is:\n",
      "[[153   0   0]\n",
      " [  0  75   1]\n",
      " [  0   0  24]]\n"
     ]
    }
   ],
   "source": [
    "cnf_matrix2 = confusion_matrix(Test1Labels, pred)\n",
    "print(\"\\nThe confusion matrix is:\")\n",
    "print(cnf_matrix2)"
   ]
  },
  {
   "cell_type": "code",
   "execution_count": 41,
   "id": "661da710",
   "metadata": {},
   "outputs": [
    {
     "data": {
      "image/png": "[encoded data removed]",
      "text/plain": [
       "<Figure size 640x480 with 2 Axes>"
      ]
     },
     "metadata": {},
     "output_type": "display_data"
    }
   ],
   "source": [
    "sns.heatmap(cnf_matrix2, annot=True, fmt='d', cmap='Blues')\n",
    "plt.xlabel('Predicted labels')\n",
    "plt.ylabel('True labels')\n",
    "plt.show()"
   ]
  },
  {
   "cell_type": "code",
   "execution_count": 42,
   "id": "930f3cda",
   "metadata": {},
   "outputs": [
    {
     "name": "stdout",
     "output_type": "stream",
     "text": [
      "\n",
      "The Accuracy Score is:\n"
     ]
    },
    {
     "data": {
      "text/plain": [
       "0.9960474308300395"
      ]
     },
     "execution_count": 42,
     "metadata": {},
     "output_type": "execute_result"
    }
   ],
   "source": [
    "svm = SVC(kernel='linear', C=3)\n",
    "svm.fit(TrainDF1, Train1Labels)\n",
    "pred= svm.predict(TestDF1)\n",
    "print(\"\\nThe Accuracy Score is:\")\n",
    "accuracy_score(Test1Labels,pred)"
   ]
  },
  {
   "cell_type": "code",
   "execution_count": 43,
   "id": "2619d07f",
   "metadata": {},
   "outputs": [
    {
     "name": "stdout",
     "output_type": "stream",
     "text": [
      "\n",
      "The confusion matrix is:\n",
      "[[153   0   0]\n",
      " [  0  75   1]\n",
      " [  0   0  24]]\n"
     ]
    }
   ],
   "source": [
    "cnf_matrix2 = confusion_matrix(Test1Labels, pred)\n",
    "print(\"\\nThe confusion matrix is:\")\n",
    "print(cnf_matrix2)"
   ]
  },
  {
   "cell_type": "code",
   "execution_count": 44,
   "id": "ca27ffec",
   "metadata": {},
   "outputs": [
    {
     "data": {
      "image/png": "[encoded data removed]",
      "text/plain": [
       "<Figure size 640x480 with 2 Axes>"
      ]
     },
     "metadata": {},
     "output_type": "display_data"
    }
   ],
   "source": [
    "sns.heatmap(cnf_matrix2, annot=True, fmt='d', cmap='Blues')\n",
    "plt.xlabel('Predicted labels')\n",
    "plt.ylabel('True labels')\n",
    "plt.show()"
   ]
  },
  {
   "cell_type": "code",
   "execution_count": 45,
   "id": "2779129b",
   "metadata": {},
   "outputs": [],
   "source": [
    "Housing_Data_reg=Housing_Data_2[['livingArea','zestimate']]"
   ]
  },
  {
   "cell_type": "code",
   "execution_count": 47,
   "id": "e1669eae",
   "metadata": {},
   "outputs": [
    {
     "name": "stdout",
     "output_type": "stream",
     "text": [
      "     livingArea  zestimate\n",
      "718      2476.0   943300.0\n",
      "192      2724.0   519600.0\n",
      "385      1667.0   371700.0\n",
      "426      2080.0   393100.0\n",
      "721      1612.0   240100.0\n",
      "..          ...        ...\n",
      "523      2328.0   408700.0\n",
      "395      1550.0   310792.0\n",
      "97        936.0   131000.0\n",
      "62       1490.0   323444.0\n",
      "308      1040.0    99700.0\n",
      "\n",
      "[590 rows x 2 columns]\n",
      "     livingArea  zestimate\n",
      "746      1352.0   242100.0\n",
      "70       1336.0   419294.0\n",
      "96       3549.0   557100.0\n",
      "391      1900.0   353100.0\n",
      "621      2494.0   464500.0\n",
      "..          ...        ...\n",
      "676      1402.0   357000.0\n",
      "536      1400.0   238500.0\n",
      "438      9591.0  4319900.0\n",
      "229      1650.0   369544.0\n",
      "702      3167.0   809000.0\n",
      "\n",
      "[253 rows x 2 columns]\n"
     ]
    }
   ],
   "source": [
    "TrainDF1, TestDF1 = train_test_split(Housing_Data_reg, test_size=0.3)\n",
    "print(TrainDF1)\n",
    "print(TestDF1)"
   ]
  },
  {
   "cell_type": "code",
   "execution_count": 48,
   "id": "3d97da25",
   "metadata": {},
   "outputs": [
    {
     "name": "stdout",
     "output_type": "stream",
     "text": [
      "784     694400.0\n",
      "510     163678.0\n",
      "733     489249.0\n",
      "634     240222.0\n",
      "140    2499016.0\n",
      "         ...    \n",
      "783     309200.0\n",
      "614     439800.0\n",
      "121     323400.0\n",
      "228     299611.0\n",
      "742     304300.0\n",
      "Name: zestimate, Length: 253, dtype: float64\n",
      "     livingArea\n",
      "784      2995.0\n",
      "510      1700.0\n",
      "733      1802.0\n",
      "634      1920.0\n",
      "140      5424.0\n",
      "..          ...\n",
      "783      2420.0\n",
      "614      1848.0\n",
      "121      1643.0\n",
      "228      2480.0\n",
      "742      1320.0\n",
      "\n",
      "[253 rows x 1 columns]\n",
      "641    200700.0\n",
      "413    544200.0\n",
      "448    380500.0\n",
      "97     131000.0\n",
      "341    150100.0\n",
      "         ...   \n",
      "167    414600.0\n",
      "817    288400.0\n",
      "410    424100.0\n",
      "547    789000.0\n",
      "52     265517.0\n",
      "Name: zestimate, Length: 590, dtype: float64\n",
      "     livingArea\n",
      "641      1776.0\n",
      "413      2080.0\n",
      "448      1709.0\n",
      "97        936.0\n",
      "341      1158.0\n",
      "..          ...\n",
      "167      3280.0\n",
      "817      2742.0\n",
      "410      2352.0\n",
      "547      3862.0\n",
      "52       1446.0\n",
      "\n",
      "[590 rows x 1 columns]\n"
     ]
    }
   ],
   "source": [
    "Test1Labels=TestDF[\"zestimate\"]\n",
    "print(Test1Labels)\n",
    "## remove labels\n",
    "TestDF1 = TestDF.drop([\"zestimate\"], axis=1)\n",
    "print(TestDF1)\n",
    "\n",
    "## TRAIN ----------------------------\n",
    "Train1Labels=TrainDF[\"zestimate\"]\n",
    "print(Train1Labels)\n",
    "## remove labels\n",
    "TrainDF1 = TrainDF.drop([\"zestimate\"], axis=1)\n",
    "print(TrainDF1)"
   ]
  },
  {
   "cell_type": "code",
   "execution_count": 50,
   "id": "57822344",
   "metadata": {},
   "outputs": [
    {
     "data": {
      "text/plain": [
       "LinearRegression()"
      ]
     },
     "execution_count": 50,
     "metadata": {},
     "output_type": "execute_result"
    }
   ],
   "source": [
    "from sklearn.linear_model import LinearRegression\n",
    "model = LinearRegression()\n",
    "model.fit(TrainDF1,Train1Labels)"
   ]
  },
  {
   "cell_type": "code",
   "execution_count": 57,
   "id": "aac54007",
   "metadata": {},
   "outputs": [
    {
     "name": "stdout",
     "output_type": "stream",
     "text": [
      "y= 256.89x + -75839.89\n"
     ]
    }
   ],
   "source": [
    "slope=model.coef_[0]\n",
    "intercept=model.intercept_\n",
    "print(f'y= {slope:.2f}x + {intercept:.2f}')"
   ]
  },
  {
   "cell_type": "code",
   "execution_count": 52,
   "id": "30e40128",
   "metadata": {},
   "outputs": [
    {
     "name": "stdout",
     "output_type": "stream",
     "text": [
      "Mean Squared Prediction Error (MSPE): 197140401020.85062\n"
     ]
    }
   ],
   "source": [
    "from sklearn.metrics import mean_squared_error\n",
    "Test1Pred = model.predict(TestDF1)\n",
    "mspe = mean_squared_error(Test1Labels, Test1Pred)\n",
    "print('Mean Squared Prediction Error (MSPE):', mspe)"
   ]
  },
  {
   "cell_type": "code",
   "execution_count": 53,
   "id": "29b5d0c4",
   "metadata": {},
   "outputs": [
    {
     "data": {
      "image/png": "[encoded data removed]",
      "text/plain": [
       "<Figure size 640x480 with 1 Axes>"
      ]
     },
     "metadata": {},
     "output_type": "display_data"
    }
   ],
   "source": [
    "\n",
    "plt.scatter(Test1Labels, Test1Pred, alpha=0.5)\n",
    "\n",
    "plt.plot(Test1Labels, Test1Labels, color='red')\n",
    "\n",
    "plt.title('Linear Regression Plot')\n",
    "plt.xlabel('True Values')\n",
    "plt.ylabel('Predictions')\n",
    "\n",
    "# Show the plot\n",
    "plt.show()\n"
   ]
  },
  {
   "cell_type": "code",
   "execution_count": null,
   "id": "69cef130",
   "metadata": {},
   "outputs": [],
   "source": []
  }
 ],
 "metadata": {
  "kernelspec": {
   "display_name": "Python 3 (ipykernel)",
   "language": "python",
   "name": "python3"
  },
  "language_info": {
   "codemirror_mode": {
    "name": "ipython",
    "version": 3
   },
   "file_extension": ".py",
   "mimetype": "text/x-python",
   "name": "python",
   "nbconvert_exporter": "python",
   "pygments_lexer": "ipython3",
   "version": "3.9.13"
  }
 },
 "nbformat": 4,
 "nbformat_minor": 5
}
