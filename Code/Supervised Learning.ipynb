{
 "cells": [
  {
   "cell_type": "code",
   "execution_count": 1,
   "id": "829a3c70",
   "metadata": {},
   "outputs": [
    {
     "name": "stdout",
     "output_type": "stream",
     "text": [
      "Note: you may need to restart the kernel to use updated packages.\n"
     ]
    },
    {
     "name": "stderr",
     "output_type": "stream",
     "text": [
      "ERROR: Could not find a version that satisfies the requirement dtreeviz.trees (from versions: none)\n",
      "ERROR: No matching distribution found for dtreeviz.trees\n"
     ]
    }
   ],
   "source": [
    "pip install dtreeviz.trees"
   ]
  },
  {
   "cell_type": "code",
   "execution_count": 21,
   "id": "b77eaf10",
   "metadata": {},
   "outputs": [],
   "source": [
    "import pandas as pd\n",
    "import requests\n",
    "import numpy as np\n",
    "import matplotlib.pyplot as plt\n",
    "import seaborn as sns\n",
    "from sklearn.preprocessing import MinMaxScaler\n",
    "from sklearn.cluster import KMeans\n",
    "from sklearn.decomposition import PCA\n",
    "import statistics as stat\n",
    "import matplotlib.cm as cm\n",
    "from sklearn.metrics import silhouette_samples, silhouette_score\n",
    "from sklearn.cluster import KMeans , AgglomerativeClustering, DBSCAN\n",
    "import graphviz\n",
    "from sklearn.svm import SVC\n",
    "from sklearn.metrics import accuracy_score"
   ]
  },
  {
   "cell_type": "code",
   "execution_count": 2,
   "id": "72ee93cf",
   "metadata": {},
   "outputs": [
    {
     "data": {
      "text/html": [
       "<div>\n",
       "<style scoped>\n",
       "    .dataframe tbody tr th:only-of-type {\n",
       "        vertical-align: middle;\n",
       "    }\n",
       "\n",
       "    .dataframe tbody tr th {\n",
       "        vertical-align: top;\n",
       "    }\n",
       "\n",
       "    .dataframe thead th {\n",
       "        text-align: right;\n",
       "    }\n",
       "</style>\n",
       "<table border=\"1\" class=\"dataframe\">\n",
       "  <thead>\n",
       "    <tr style=\"text-align: right;\">\n",
       "      <th></th>\n",
       "      <th>bathrooms</th>\n",
       "      <th>bedrooms</th>\n",
       "      <th>city</th>\n",
       "      <th>country</th>\n",
       "      <th>currency</th>\n",
       "      <th>latitude</th>\n",
       "      <th>livingArea</th>\n",
       "      <th>longitude</th>\n",
       "      <th>lotAreaUnit</th>\n",
       "      <th>priceForHDP</th>\n",
       "      <th>rentZestimate</th>\n",
       "      <th>state</th>\n",
       "      <th>streetAddress</th>\n",
       "      <th>taxAssessedValue</th>\n",
       "      <th>zestimate</th>\n",
       "      <th>zipcode</th>\n",
       "      <th>priceinmil</th>\n",
       "      <th>lotArea</th>\n",
       "    </tr>\n",
       "  </thead>\n",
       "  <tbody>\n",
       "    <tr>\n",
       "      <th>0</th>\n",
       "      <td>4.0</td>\n",
       "      <td>4.0</td>\n",
       "      <td>Denver</td>\n",
       "      <td>USA</td>\n",
       "      <td>USD</td>\n",
       "      <td>39.724728</td>\n",
       "      <td>2202.0</td>\n",
       "      <td>-104.959140</td>\n",
       "      <td>sqft</td>\n",
       "      <td>1500000.0</td>\n",
       "      <td>3170.0</td>\n",
       "      <td>CO</td>\n",
       "      <td>530 University Boulevard</td>\n",
       "      <td>726200.0</td>\n",
       "      <td>1031000.0</td>\n",
       "      <td>80206</td>\n",
       "      <td>1.5000</td>\n",
       "      <td>3.6290</td>\n",
       "    </tr>\n",
       "    <tr>\n",
       "      <th>1</th>\n",
       "      <td>3.0</td>\n",
       "      <td>4.0</td>\n",
       "      <td>Denver</td>\n",
       "      <td>USA</td>\n",
       "      <td>USD</td>\n",
       "      <td>39.648630</td>\n",
       "      <td>2659.0</td>\n",
       "      <td>-105.055405</td>\n",
       "      <td>sqft</td>\n",
       "      <td>725000.0</td>\n",
       "      <td>2429.0</td>\n",
       "      <td>CO</td>\n",
       "      <td>3781 S Benton Way</td>\n",
       "      <td>444900.0</td>\n",
       "      <td>455700.0</td>\n",
       "      <td>80235</td>\n",
       "      <td>0.7250</td>\n",
       "      <td>12.2150</td>\n",
       "    </tr>\n",
       "    <tr>\n",
       "      <th>2</th>\n",
       "      <td>5.0</td>\n",
       "      <td>4.0</td>\n",
       "      <td>Denver</td>\n",
       "      <td>USA</td>\n",
       "      <td>USD</td>\n",
       "      <td>39.770897</td>\n",
       "      <td>3991.0</td>\n",
       "      <td>-105.013214</td>\n",
       "      <td>sqft</td>\n",
       "      <td>1800000.0</td>\n",
       "      <td>7454.0</td>\n",
       "      <td>CO</td>\n",
       "      <td>3926 Vallejo Street</td>\n",
       "      <td>621200.0</td>\n",
       "      <td>1395200.0</td>\n",
       "      <td>80211</td>\n",
       "      <td>1.8000</td>\n",
       "      <td>6.2500</td>\n",
       "    </tr>\n",
       "    <tr>\n",
       "      <th>3</th>\n",
       "      <td>5.0</td>\n",
       "      <td>6.0</td>\n",
       "      <td>Denver</td>\n",
       "      <td>USA</td>\n",
       "      <td>USD</td>\n",
       "      <td>39.665450</td>\n",
       "      <td>3838.0</td>\n",
       "      <td>-104.963524</td>\n",
       "      <td>sqft</td>\n",
       "      <td>1500000.0</td>\n",
       "      <td>3746.0</td>\n",
       "      <td>CO</td>\n",
       "      <td>2832 S Race Street</td>\n",
       "      <td>712500.0</td>\n",
       "      <td>1474576.0</td>\n",
       "      <td>80210</td>\n",
       "      <td>1.5000</td>\n",
       "      <td>8.7120</td>\n",
       "    </tr>\n",
       "    <tr>\n",
       "      <th>4</th>\n",
       "      <td>3.0</td>\n",
       "      <td>4.0</td>\n",
       "      <td>Denver</td>\n",
       "      <td>USA</td>\n",
       "      <td>USD</td>\n",
       "      <td>39.769943</td>\n",
       "      <td>2292.0</td>\n",
       "      <td>-105.021260</td>\n",
       "      <td>sqft</td>\n",
       "      <td>1200000.0</td>\n",
       "      <td>3405.0</td>\n",
       "      <td>CO</td>\n",
       "      <td>2730 W Denver Place</td>\n",
       "      <td>216300.0</td>\n",
       "      <td>870300.0</td>\n",
       "      <td>80211</td>\n",
       "      <td>1.2000</td>\n",
       "      <td>4.9050</td>\n",
       "    </tr>\n",
       "    <tr>\n",
       "      <th>...</th>\n",
       "      <td>...</td>\n",
       "      <td>...</td>\n",
       "      <td>...</td>\n",
       "      <td>...</td>\n",
       "      <td>...</td>\n",
       "      <td>...</td>\n",
       "      <td>...</td>\n",
       "      <td>...</td>\n",
       "      <td>...</td>\n",
       "      <td>...</td>\n",
       "      <td>...</td>\n",
       "      <td>...</td>\n",
       "      <td>...</td>\n",
       "      <td>...</td>\n",
       "      <td>...</td>\n",
       "      <td>...</td>\n",
       "      <td>...</td>\n",
       "      <td>...</td>\n",
       "    </tr>\n",
       "    <tr>\n",
       "      <th>838</th>\n",
       "      <td>2.0</td>\n",
       "      <td>3.0</td>\n",
       "      <td>Mills</td>\n",
       "      <td>USA</td>\n",
       "      <td>USD</td>\n",
       "      <td>42.835503</td>\n",
       "      <td>3372.0</td>\n",
       "      <td>-106.413000</td>\n",
       "      <td>sqft</td>\n",
       "      <td>449900.0</td>\n",
       "      <td>2128.0</td>\n",
       "      <td>WY</td>\n",
       "      <td>1302 River Heights Dr</td>\n",
       "      <td>327731.0</td>\n",
       "      <td>431700.0</td>\n",
       "      <td>82604</td>\n",
       "      <td>0.4499</td>\n",
       "      <td>11.7612</td>\n",
       "    </tr>\n",
       "    <tr>\n",
       "      <th>839</th>\n",
       "      <td>2.0</td>\n",
       "      <td>4.0</td>\n",
       "      <td>Douglas</td>\n",
       "      <td>USA</td>\n",
       "      <td>USD</td>\n",
       "      <td>42.763844</td>\n",
       "      <td>2304.0</td>\n",
       "      <td>-105.382230</td>\n",
       "      <td>sqft</td>\n",
       "      <td>110000.0</td>\n",
       "      <td>1935.0</td>\n",
       "      <td>WY</td>\n",
       "      <td>403 N 4th St</td>\n",
       "      <td>135752.0</td>\n",
       "      <td>169900.0</td>\n",
       "      <td>82633</td>\n",
       "      <td>0.1100</td>\n",
       "      <td>11.3256</td>\n",
       "    </tr>\n",
       "    <tr>\n",
       "      <th>840</th>\n",
       "      <td>2.0</td>\n",
       "      <td>3.0</td>\n",
       "      <td>Evanston</td>\n",
       "      <td>USA</td>\n",
       "      <td>USD</td>\n",
       "      <td>41.254820</td>\n",
       "      <td>1150.0</td>\n",
       "      <td>-110.959460</td>\n",
       "      <td>sqft</td>\n",
       "      <td>159000.0</td>\n",
       "      <td>1195.0</td>\n",
       "      <td>WY</td>\n",
       "      <td>801 Sioux Dr</td>\n",
       "      <td>114419.0</td>\n",
       "      <td>149900.0</td>\n",
       "      <td>82930</td>\n",
       "      <td>0.1590</td>\n",
       "      <td>0.5760</td>\n",
       "    </tr>\n",
       "    <tr>\n",
       "      <th>841</th>\n",
       "      <td>4.0</td>\n",
       "      <td>6.0</td>\n",
       "      <td>Gillette</td>\n",
       "      <td>USA</td>\n",
       "      <td>USD</td>\n",
       "      <td>44.245415</td>\n",
       "      <td>5022.0</td>\n",
       "      <td>-105.562035</td>\n",
       "      <td>sqft</td>\n",
       "      <td>998000.0</td>\n",
       "      <td>3622.0</td>\n",
       "      <td>WY</td>\n",
       "      <td>5221 Rocky Point Dr</td>\n",
       "      <td>638339.0</td>\n",
       "      <td>728600.0</td>\n",
       "      <td>82718</td>\n",
       "      <td>0.9980</td>\n",
       "      <td>424.2744</td>\n",
       "    </tr>\n",
       "    <tr>\n",
       "      <th>842</th>\n",
       "      <td>1.0</td>\n",
       "      <td>2.0</td>\n",
       "      <td>Casper</td>\n",
       "      <td>USA</td>\n",
       "      <td>USD</td>\n",
       "      <td>42.836254</td>\n",
       "      <td>640.0</td>\n",
       "      <td>-106.352700</td>\n",
       "      <td>sqft</td>\n",
       "      <td>183000.0</td>\n",
       "      <td>926.0</td>\n",
       "      <td>WY</td>\n",
       "      <td>1401 Sheridan Dr</td>\n",
       "      <td>65568.0</td>\n",
       "      <td>175424.0</td>\n",
       "      <td>82604</td>\n",
       "      <td>0.1830</td>\n",
       "      <td>5.2000</td>\n",
       "    </tr>\n",
       "  </tbody>\n",
       "</table>\n",
       "<p>843 rows × 18 columns</p>\n",
       "</div>"
      ],
      "text/plain": [
       "     bathrooms  bedrooms      city country currency   latitude  livingArea  \\\n",
       "0          4.0       4.0    Denver     USA      USD  39.724728      2202.0   \n",
       "1          3.0       4.0    Denver     USA      USD  39.648630      2659.0   \n",
       "2          5.0       4.0    Denver     USA      USD  39.770897      3991.0   \n",
       "3          5.0       6.0    Denver     USA      USD  39.665450      3838.0   \n",
       "4          3.0       4.0    Denver     USA      USD  39.769943      2292.0   \n",
       "..         ...       ...       ...     ...      ...        ...         ...   \n",
       "838        2.0       3.0     Mills     USA      USD  42.835503      3372.0   \n",
       "839        2.0       4.0   Douglas     USA      USD  42.763844      2304.0   \n",
       "840        2.0       3.0  Evanston     USA      USD  41.254820      1150.0   \n",
       "841        4.0       6.0  Gillette     USA      USD  44.245415      5022.0   \n",
       "842        1.0       2.0    Casper     USA      USD  42.836254       640.0   \n",
       "\n",
       "      longitude lotAreaUnit  priceForHDP  rentZestimate state  \\\n",
       "0   -104.959140        sqft    1500000.0         3170.0    CO   \n",
       "1   -105.055405        sqft     725000.0         2429.0    CO   \n",
       "2   -105.013214        sqft    1800000.0         7454.0    CO   \n",
       "3   -104.963524        sqft    1500000.0         3746.0    CO   \n",
       "4   -105.021260        sqft    1200000.0         3405.0    CO   \n",
       "..          ...         ...          ...            ...   ...   \n",
       "838 -106.413000        sqft     449900.0         2128.0    WY   \n",
       "839 -105.382230        sqft     110000.0         1935.0    WY   \n",
       "840 -110.959460        sqft     159000.0         1195.0    WY   \n",
       "841 -105.562035        sqft     998000.0         3622.0    WY   \n",
       "842 -106.352700        sqft     183000.0          926.0    WY   \n",
       "\n",
       "                streetAddress  taxAssessedValue  zestimate  zipcode  \\\n",
       "0    530 University Boulevard          726200.0  1031000.0    80206   \n",
       "1           3781 S Benton Way          444900.0   455700.0    80235   \n",
       "2         3926 Vallejo Street          621200.0  1395200.0    80211   \n",
       "3          2832 S Race Street          712500.0  1474576.0    80210   \n",
       "4         2730 W Denver Place          216300.0   870300.0    80211   \n",
       "..                        ...               ...        ...      ...   \n",
       "838     1302 River Heights Dr          327731.0   431700.0    82604   \n",
       "839              403 N 4th St          135752.0   169900.0    82633   \n",
       "840              801 Sioux Dr          114419.0   149900.0    82930   \n",
       "841       5221 Rocky Point Dr          638339.0   728600.0    82718   \n",
       "842          1401 Sheridan Dr           65568.0   175424.0    82604   \n",
       "\n",
       "     priceinmil   lotArea  \n",
       "0        1.5000    3.6290  \n",
       "1        0.7250   12.2150  \n",
       "2        1.8000    6.2500  \n",
       "3        1.5000    8.7120  \n",
       "4        1.2000    4.9050  \n",
       "..          ...       ...  \n",
       "838      0.4499   11.7612  \n",
       "839      0.1100   11.3256  \n",
       "840      0.1590    0.5760  \n",
       "841      0.9980  424.2744  \n",
       "842      0.1830    5.2000  \n",
       "\n",
       "[843 rows x 18 columns]"
      ]
     },
     "execution_count": 2,
     "metadata": {},
     "output_type": "execute_result"
    }
   ],
   "source": [
    "Housing_Data=pd.read_csv('Housing_Data_5.csv')\n",
    "Housing_Data=Housing_Data.drop(columns=['Unnamed: 0'])\n",
    "Housing_Data"
   ]
  },
  {
   "cell_type": "code",
   "execution_count": 3,
   "id": "d6d195d2",
   "metadata": {},
   "outputs": [],
   "source": [
    "Housing_Data['range_1'] = pd.cut(Housing_Data['zestimate'], bins=[0,400000,800000,float('inf')], labels=['Low','Medium','High'])"
   ]
  },
  {
   "cell_type": "code",
   "execution_count": 4,
   "id": "b4b61f5b",
   "metadata": {
    "scrolled": true
   },
   "outputs": [
    {
     "name": "stdout",
     "output_type": "stream",
     "text": [
      "<class 'pandas.core.frame.DataFrame'>\n",
      "RangeIndex: 843 entries, 0 to 842\n",
      "Data columns (total 19 columns):\n",
      " #   Column            Non-Null Count  Dtype   \n",
      "---  ------            --------------  -----   \n",
      " 0   bathrooms         843 non-null    float64 \n",
      " 1   bedrooms          843 non-null    float64 \n",
      " 2   city              843 non-null    object  \n",
      " 3   country           843 non-null    object  \n",
      " 4   currency          843 non-null    object  \n",
      " 5   latitude          843 non-null    float64 \n",
      " 6   livingArea        843 non-null    float64 \n",
      " 7   longitude         843 non-null    float64 \n",
      " 8   lotAreaUnit       843 non-null    object  \n",
      " 9   priceForHDP       843 non-null    float64 \n",
      " 10  rentZestimate     843 non-null    float64 \n",
      " 11  state             843 non-null    object  \n",
      " 12  streetAddress     843 non-null    object  \n",
      " 13  taxAssessedValue  843 non-null    float64 \n",
      " 14  zestimate         843 non-null    float64 \n",
      " 15  zipcode           843 non-null    int64   \n",
      " 16  priceinmil        843 non-null    float64 \n",
      " 17  lotArea           843 non-null    float64 \n",
      " 18  range_1           843 non-null    category\n",
      "dtypes: category(1), float64(11), int64(1), object(6)\n",
      "memory usage: 119.6+ KB\n"
     ]
    }
   ],
   "source": [
    "Housing_Data.info()"
   ]
  },
  {
   "cell_type": "code",
   "execution_count": 5,
   "id": "38ab7bb2",
   "metadata": {},
   "outputs": [],
   "source": [
    "Housing_Data['range_1'] = Housing_Data['range_1'].astype('category').cat.codes"
   ]
  },
  {
   "cell_type": "code",
   "execution_count": 6,
   "id": "42d3692f",
   "metadata": {},
   "outputs": [
    {
     "data": {
      "text/plain": [
       "0    512\n",
       "1    237\n",
       "2     94\n",
       "Name: range_1, dtype: int64"
      ]
     },
     "execution_count": 6,
     "metadata": {},
     "output_type": "execute_result"
    }
   ],
   "source": [
    "counts = Housing_Data['range_1'].value_counts()\n",
    "counts"
   ]
  },
  {
   "cell_type": "code",
   "execution_count": 7,
   "id": "aff8162f",
   "metadata": {},
   "outputs": [],
   "source": [
    "Housing_Data_1 = Housing_Data.select_dtypes(include='number')\n",
    "Housing_Data_1=Housing_Data_1.drop(columns=['longitude'])"
   ]
  },
  {
   "cell_type": "code",
   "execution_count": 8,
   "id": "b17262f3",
   "metadata": {},
   "outputs": [
    {
     "data": {
      "text/html": [
       "<div>\n",
       "<style scoped>\n",
       "    .dataframe tbody tr th:only-of-type {\n",
       "        vertical-align: middle;\n",
       "    }\n",
       "\n",
       "    .dataframe tbody tr th {\n",
       "        vertical-align: top;\n",
       "    }\n",
       "\n",
       "    .dataframe thead th {\n",
       "        text-align: right;\n",
       "    }\n",
       "</style>\n",
       "<table border=\"1\" class=\"dataframe\">\n",
       "  <thead>\n",
       "    <tr style=\"text-align: right;\">\n",
       "      <th></th>\n",
       "      <th>bathrooms</th>\n",
       "      <th>bedrooms</th>\n",
       "      <th>latitude</th>\n",
       "      <th>livingArea</th>\n",
       "      <th>priceForHDP</th>\n",
       "      <th>rentZestimate</th>\n",
       "      <th>taxAssessedValue</th>\n",
       "      <th>zestimate</th>\n",
       "      <th>zipcode</th>\n",
       "      <th>priceinmil</th>\n",
       "      <th>lotArea</th>\n",
       "      <th>range_1</th>\n",
       "    </tr>\n",
       "  </thead>\n",
       "  <tbody>\n",
       "    <tr>\n",
       "      <th>493</th>\n",
       "      <td>1.0</td>\n",
       "      <td>3.0</td>\n",
       "      <td>37.090595</td>\n",
       "      <td>1077.0</td>\n",
       "      <td>137500.0</td>\n",
       "      <td>816.0</td>\n",
       "      <td>46770.0</td>\n",
       "      <td>130755.0</td>\n",
       "      <td>64801</td>\n",
       "      <td>0.1375</td>\n",
       "      <td>12.196800</td>\n",
       "      <td>0</td>\n",
       "    </tr>\n",
       "    <tr>\n",
       "      <th>215</th>\n",
       "      <td>3.0</td>\n",
       "      <td>4.0</td>\n",
       "      <td>32.916492</td>\n",
       "      <td>2035.0</td>\n",
       "      <td>372000.0</td>\n",
       "      <td>2185.0</td>\n",
       "      <td>198732.0</td>\n",
       "      <td>372000.0</td>\n",
       "      <td>29420</td>\n",
       "      <td>0.3720</td>\n",
       "      <td>10.018800</td>\n",
       "      <td>0</td>\n",
       "    </tr>\n",
       "    <tr>\n",
       "      <th>622</th>\n",
       "      <td>3.0</td>\n",
       "      <td>4.0</td>\n",
       "      <td>46.908290</td>\n",
       "      <td>2896.0</td>\n",
       "      <td>299000.0</td>\n",
       "      <td>2166.0</td>\n",
       "      <td>296300.0</td>\n",
       "      <td>357800.0</td>\n",
       "      <td>58401</td>\n",
       "      <td>0.2990</td>\n",
       "      <td>18.600120</td>\n",
       "      <td>0</td>\n",
       "    </tr>\n",
       "    <tr>\n",
       "      <th>737</th>\n",
       "      <td>1.0</td>\n",
       "      <td>2.0</td>\n",
       "      <td>38.661960</td>\n",
       "      <td>960.0</td>\n",
       "      <td>224900.0</td>\n",
       "      <td>1150.0</td>\n",
       "      <td>100794.0</td>\n",
       "      <td>168600.0</td>\n",
       "      <td>84724</td>\n",
       "      <td>0.2249</td>\n",
       "      <td>40.075200</td>\n",
       "      <td>0</td>\n",
       "    </tr>\n",
       "    <tr>\n",
       "      <th>63</th>\n",
       "      <td>2.0</td>\n",
       "      <td>4.0</td>\n",
       "      <td>29.578120</td>\n",
       "      <td>2253.0</td>\n",
       "      <td>225000.0</td>\n",
       "      <td>2199.0</td>\n",
       "      <td>223335.0</td>\n",
       "      <td>225000.0</td>\n",
       "      <td>77089</td>\n",
       "      <td>0.2250</td>\n",
       "      <td>7.819020</td>\n",
       "      <td>0</td>\n",
       "    </tr>\n",
       "    <tr>\n",
       "      <th>...</th>\n",
       "      <td>...</td>\n",
       "      <td>...</td>\n",
       "      <td>...</td>\n",
       "      <td>...</td>\n",
       "      <td>...</td>\n",
       "      <td>...</td>\n",
       "      <td>...</td>\n",
       "      <td>...</td>\n",
       "      <td>...</td>\n",
       "      <td>...</td>\n",
       "      <td>...</td>\n",
       "      <td>...</td>\n",
       "    </tr>\n",
       "    <tr>\n",
       "      <th>71</th>\n",
       "      <td>4.0</td>\n",
       "      <td>4.0</td>\n",
       "      <td>32.827625</td>\n",
       "      <td>3660.0</td>\n",
       "      <td>750000.0</td>\n",
       "      <td>2034.0</td>\n",
       "      <td>361890.0</td>\n",
       "      <td>740859.0</td>\n",
       "      <td>75218</td>\n",
       "      <td>0.7500</td>\n",
       "      <td>22.259160</td>\n",
       "      <td>1</td>\n",
       "    </tr>\n",
       "    <tr>\n",
       "      <th>106</th>\n",
       "      <td>4.0</td>\n",
       "      <td>4.0</td>\n",
       "      <td>33.459800</td>\n",
       "      <td>2380.0</td>\n",
       "      <td>770000.0</td>\n",
       "      <td>3300.0</td>\n",
       "      <td>442600.0</td>\n",
       "      <td>749084.0</td>\n",
       "      <td>85257</td>\n",
       "      <td>0.7700</td>\n",
       "      <td>2.962080</td>\n",
       "      <td>1</td>\n",
       "    </tr>\n",
       "    <tr>\n",
       "      <th>270</th>\n",
       "      <td>3.0</td>\n",
       "      <td>3.0</td>\n",
       "      <td>38.881073</td>\n",
       "      <td>2094.0</td>\n",
       "      <td>1750000.0</td>\n",
       "      <td>4800.0</td>\n",
       "      <td>975850.0</td>\n",
       "      <td>1705626.0</td>\n",
       "      <td>20003</td>\n",
       "      <td>1.7500</td>\n",
       "      <td>1.194000</td>\n",
       "      <td>2</td>\n",
       "    </tr>\n",
       "    <tr>\n",
       "      <th>435</th>\n",
       "      <td>2.0</td>\n",
       "      <td>3.0</td>\n",
       "      <td>42.579037</td>\n",
       "      <td>1970.0</td>\n",
       "      <td>345000.0</td>\n",
       "      <td>2499.0</td>\n",
       "      <td>229300.0</td>\n",
       "      <td>347300.0</td>\n",
       "      <td>1440</td>\n",
       "      <td>0.3450</td>\n",
       "      <td>16.903000</td>\n",
       "      <td>0</td>\n",
       "    </tr>\n",
       "    <tr>\n",
       "      <th>102</th>\n",
       "      <td>2.0</td>\n",
       "      <td>3.0</td>\n",
       "      <td>30.662672</td>\n",
       "      <td>1809.0</td>\n",
       "      <td>109900.0</td>\n",
       "      <td>1150.0</td>\n",
       "      <td>81000.0</td>\n",
       "      <td>105000.0</td>\n",
       "      <td>36609</td>\n",
       "      <td>0.1099</td>\n",
       "      <td>8.367876</td>\n",
       "      <td>0</td>\n",
       "    </tr>\n",
       "  </tbody>\n",
       "</table>\n",
       "<p>843 rows × 12 columns</p>\n",
       "</div>"
      ],
      "text/plain": [
       "     bathrooms  bedrooms   latitude  livingArea  priceForHDP  rentZestimate  \\\n",
       "493        1.0       3.0  37.090595      1077.0     137500.0          816.0   \n",
       "215        3.0       4.0  32.916492      2035.0     372000.0         2185.0   \n",
       "622        3.0       4.0  46.908290      2896.0     299000.0         2166.0   \n",
       "737        1.0       2.0  38.661960       960.0     224900.0         1150.0   \n",
       "63         2.0       4.0  29.578120      2253.0     225000.0         2199.0   \n",
       "..         ...       ...        ...         ...          ...            ...   \n",
       "71         4.0       4.0  32.827625      3660.0     750000.0         2034.0   \n",
       "106        4.0       4.0  33.459800      2380.0     770000.0         3300.0   \n",
       "270        3.0       3.0  38.881073      2094.0    1750000.0         4800.0   \n",
       "435        2.0       3.0  42.579037      1970.0     345000.0         2499.0   \n",
       "102        2.0       3.0  30.662672      1809.0     109900.0         1150.0   \n",
       "\n",
       "     taxAssessedValue  zestimate  zipcode  priceinmil    lotArea  range_1  \n",
       "493           46770.0   130755.0    64801      0.1375  12.196800        0  \n",
       "215          198732.0   372000.0    29420      0.3720  10.018800        0  \n",
       "622          296300.0   357800.0    58401      0.2990  18.600120        0  \n",
       "737          100794.0   168600.0    84724      0.2249  40.075200        0  \n",
       "63           223335.0   225000.0    77089      0.2250   7.819020        0  \n",
       "..                ...        ...      ...         ...        ...      ...  \n",
       "71           361890.0   740859.0    75218      0.7500  22.259160        1  \n",
       "106          442600.0   749084.0    85257      0.7700   2.962080        1  \n",
       "270          975850.0  1705626.0    20003      1.7500   1.194000        2  \n",
       "435          229300.0   347300.0     1440      0.3450  16.903000        0  \n",
       "102           81000.0   105000.0    36609      0.1099   8.367876        0  \n",
       "\n",
       "[843 rows x 12 columns]"
      ]
     },
     "execution_count": 8,
     "metadata": {},
     "output_type": "execute_result"
    }
   ],
   "source": [
    "Housing_Data_2 = Housing_Data_1.sample(n=843, random_state=42)\n",
    "Housing_Data_2"
   ]
  },
  {
   "cell_type": "code",
   "execution_count": 9,
   "id": "732a0a09",
   "metadata": {},
   "outputs": [
    {
     "name": "stdout",
     "output_type": "stream",
     "text": [
      "     bathrooms  bedrooms   latitude  livingArea  priceForHDP  rentZestimate  \\\n",
      "478        6.0       7.0  32.343643      5317.0    1595000.0        11073.0   \n",
      "243        3.0       4.0  35.361340      2930.0     369900.0         1120.0   \n",
      "616        1.0       2.0  42.078884       672.0      74900.0          900.0   \n",
      "367        1.0       2.0  39.840195      1428.0      99000.0          834.0   \n",
      "319        2.0       3.0  38.382526      1739.0     115000.0         1526.0   \n",
      "..         ...       ...        ...         ...          ...            ...   \n",
      "130        3.0       4.0  38.773780      2114.0     675000.0         2949.0   \n",
      "298        1.0       2.0  47.552357       952.0     149000.0          400.0   \n",
      "152        2.0       3.0  33.920715      1597.0     375000.0         2125.0   \n",
      "547        3.0       4.0  35.997750      3862.0    1555555.0         4003.0   \n",
      "339        3.0       3.0  41.766537      2219.0     285000.0         1699.0   \n",
      "\n",
      "     taxAssessedValue  zestimate  zipcode  priceinmil     lotArea  range_1  \n",
      "478          860610.0  1322300.0    39232    1.595000  171.190800        2  \n",
      "243          207350.0   275000.0    72903    0.369900   13.298868        0  \n",
      "616           32189.0    54700.0    14701    0.074900    6.934752        0  \n",
      "367           44750.0    54200.0    66508    0.099000    5.662000        0  \n",
      "319          140100.0   211800.0    47124    0.115000   43.560000        0  \n",
      "..                ...        ...      ...         ...         ...      ...  \n",
      "130          578673.0   675000.0    95747    0.675000    8.764272        1  \n",
      "298           17799.0   149000.0    83810    0.149000   22.215600        0  \n",
      "152          177539.0   276000.0    30620    0.375000   34.442892        0  \n",
      "547          447511.0   789000.0    89183    1.555555   41.817600        1  \n",
      "339          238900.0   281525.0    52317    0.285000   17.424000        0  \n",
      "\n",
      "[590 rows x 12 columns]\n",
      "     bathrooms  bedrooms   latitude  livingArea  priceForHDP  rentZestimate  \\\n",
      "711        3.0       3.0  32.169327      1756.0     879000.0         4076.0   \n",
      "552        2.0       2.0  36.265984      1214.0     300000.0         1875.0   \n",
      "467        2.0       3.0  42.549168      1164.0     140000.0          950.0   \n",
      "427        2.0       2.0  41.660660      1071.0     304900.0         2570.0   \n",
      "628        2.0       4.0  46.814150      2030.0     289900.0         1594.0   \n",
      "..         ...       ...        ...         ...          ...            ...   \n",
      "493        1.0       3.0  37.090595      1077.0     137500.0          816.0   \n",
      "631        2.0       5.0  47.145367      2337.0     325000.0         1708.0   \n",
      "532        2.0       3.0  41.275753      1379.0     260000.0         1814.0   \n",
      "109        3.0       3.0  36.975334      2100.0     449900.0         2499.0   \n",
      "121        2.0       3.0  36.800217      1643.0     365000.0         1950.0   \n",
      "\n",
      "     taxAssessedValue  zestimate  zipcode  priceinmil   lotArea  range_1  \n",
      "711          459000.0   854000.0    29928      0.8790   0.00000        2  \n",
      "552          170946.0   328400.0    89149      0.3000   5.66280        0  \n",
      "467           66600.0   116400.0    48813      0.1400   7.49232        0  \n",
      "427          164400.0   292000.0     2670      0.3049   0.00000        0  \n",
      "628          211800.0   287470.0    58501      0.2899  10.14948        0  \n",
      "..                ...        ...      ...         ...       ...      ...  \n",
      "493           46770.0   130755.0    64801      0.1375  12.19680        0  \n",
      "631          133300.0   325100.0    58036      0.3250  14.00000        0  \n",
      "532          184000.0   261600.0    68022      0.2600   5.92416        0  \n",
      "109          202296.0   381800.0    93637      0.4499   6.17000        0  \n",
      "121          231876.0   323400.0    93722      0.3650   6.00000        0  \n",
      "\n",
      "[253 rows x 12 columns]\n"
     ]
    }
   ],
   "source": [
    "from sklearn.model_selection import train_test_split\n",
    "TrainDF, TestDF = train_test_split(Housing_Data_2, test_size=0.3)\n",
    "print(TrainDF)\n",
    "print(TestDF)"
   ]
  },
  {
   "cell_type": "code",
   "execution_count": 10,
   "id": "fe54e62f",
   "metadata": {},
   "outputs": [
    {
     "name": "stdout",
     "output_type": "stream",
     "text": [
      "711    2\n",
      "552    0\n",
      "467    0\n",
      "427    0\n",
      "628    0\n",
      "      ..\n",
      "493    0\n",
      "631    0\n",
      "532    0\n",
      "109    0\n",
      "121    0\n",
      "Name: range_1, Length: 253, dtype: int8\n",
      "     bathrooms  bedrooms   latitude  livingArea  priceForHDP  rentZestimate  \\\n",
      "711        3.0       3.0  32.169327      1756.0     879000.0         4076.0   \n",
      "552        2.0       2.0  36.265984      1214.0     300000.0         1875.0   \n",
      "467        2.0       3.0  42.549168      1164.0     140000.0          950.0   \n",
      "427        2.0       2.0  41.660660      1071.0     304900.0         2570.0   \n",
      "628        2.0       4.0  46.814150      2030.0     289900.0         1594.0   \n",
      "..         ...       ...        ...         ...          ...            ...   \n",
      "493        1.0       3.0  37.090595      1077.0     137500.0          816.0   \n",
      "631        2.0       5.0  47.145367      2337.0     325000.0         1708.0   \n",
      "532        2.0       3.0  41.275753      1379.0     260000.0         1814.0   \n",
      "109        3.0       3.0  36.975334      2100.0     449900.0         2499.0   \n",
      "121        2.0       3.0  36.800217      1643.0     365000.0         1950.0   \n",
      "\n",
      "     taxAssessedValue  zestimate  zipcode  priceinmil   lotArea  \n",
      "711          459000.0   854000.0    29928      0.8790   0.00000  \n",
      "552          170946.0   328400.0    89149      0.3000   5.66280  \n",
      "467           66600.0   116400.0    48813      0.1400   7.49232  \n",
      "427          164400.0   292000.0     2670      0.3049   0.00000  \n",
      "628          211800.0   287470.0    58501      0.2899  10.14948  \n",
      "..                ...        ...      ...         ...       ...  \n",
      "493           46770.0   130755.0    64801      0.1375  12.19680  \n",
      "631          133300.0   325100.0    58036      0.3250  14.00000  \n",
      "532          184000.0   261600.0    68022      0.2600   5.92416  \n",
      "109          202296.0   381800.0    93637      0.4499   6.17000  \n",
      "121          231876.0   323400.0    93722      0.3650   6.00000  \n",
      "\n",
      "[253 rows x 11 columns]\n",
      "478    2\n",
      "243    0\n",
      "616    0\n",
      "367    0\n",
      "319    0\n",
      "      ..\n",
      "130    1\n",
      "298    0\n",
      "152    0\n",
      "547    1\n",
      "339    0\n",
      "Name: range_1, Length: 590, dtype: int8\n",
      "     bathrooms  bedrooms   latitude  livingArea  priceForHDP  rentZestimate  \\\n",
      "478        6.0       7.0  32.343643      5317.0    1595000.0        11073.0   \n",
      "243        3.0       4.0  35.361340      2930.0     369900.0         1120.0   \n",
      "616        1.0       2.0  42.078884       672.0      74900.0          900.0   \n",
      "367        1.0       2.0  39.840195      1428.0      99000.0          834.0   \n",
      "319        2.0       3.0  38.382526      1739.0     115000.0         1526.0   \n",
      "..         ...       ...        ...         ...          ...            ...   \n",
      "130        3.0       4.0  38.773780      2114.0     675000.0         2949.0   \n",
      "298        1.0       2.0  47.552357       952.0     149000.0          400.0   \n",
      "152        2.0       3.0  33.920715      1597.0     375000.0         2125.0   \n",
      "547        3.0       4.0  35.997750      3862.0    1555555.0         4003.0   \n",
      "339        3.0       3.0  41.766537      2219.0     285000.0         1699.0   \n",
      "\n",
      "     taxAssessedValue  zestimate  zipcode  priceinmil     lotArea  \n",
      "478          860610.0  1322300.0    39232    1.595000  171.190800  \n",
      "243          207350.0   275000.0    72903    0.369900   13.298868  \n",
      "616           32189.0    54700.0    14701    0.074900    6.934752  \n",
      "367           44750.0    54200.0    66508    0.099000    5.662000  \n",
      "319          140100.0   211800.0    47124    0.115000   43.560000  \n",
      "..                ...        ...      ...         ...         ...  \n",
      "130          578673.0   675000.0    95747    0.675000    8.764272  \n",
      "298           17799.0   149000.0    83810    0.149000   22.215600  \n",
      "152          177539.0   276000.0    30620    0.375000   34.442892  \n",
      "547          447511.0   789000.0    89183    1.555555   41.817600  \n",
      "339          238900.0   281525.0    52317    0.285000   17.424000  \n",
      "\n",
      "[590 rows x 11 columns]\n"
     ]
    }
   ],
   "source": [
    "Test1Labels=TestDF[\"range_1\"]\n",
    "print(Test1Labels)\n",
    "## remove labels\n",
    "TestDF1 = TestDF.drop([\"range_1\"], axis=1)\n",
    "print(TestDF1)\n",
    "\n",
    "## TRAIN ----------------------------\n",
    "Train1Labels=TrainDF[\"range_1\"]\n",
    "print(Train1Labels)\n",
    "## remove labels\n",
    "TrainDF1 = TrainDF.drop([\"range_1\"], axis=1)\n",
    "print(TrainDF1)"
   ]
  },
  {
   "cell_type": "code",
   "execution_count": 11,
   "id": "2632c29b",
   "metadata": {},
   "outputs": [],
   "source": [
    "from sklearn.tree import DecisionTreeClassifier\n",
    "from sklearn import tree\n",
    "import matplotlib.pyplot as plt\n",
    "## conda install python-graphviz\n",
    "## restart kernel (click the little red x next to the Console)\n",
    "#import graphviz \n",
    "from sklearn.metrics import confusion_matrix\n",
    "MyDT=DecisionTreeClassifier(criterion='entropy', ##\"entropy\" or \"gini\"\n",
    "                            splitter='best',\n",
    "                           max_depth=2,\n",
    "                           class_weight=None)"
   ]
  },
  {
   "cell_type": "code",
   "execution_count": 12,
   "id": "2c212d6c",
   "metadata": {},
   "outputs": [
    {
     "data": {
      "text/plain": [
       "DecisionTreeClassifier(criterion='entropy', max_depth=2)"
      ]
     },
     "execution_count": 12,
     "metadata": {},
     "output_type": "execute_result"
    }
   ],
   "source": [
    "MyDT.fit(TrainDF, Train1Labels)"
   ]
  },
  {
   "cell_type": "code",
   "execution_count": 13,
   "id": "f1b75616",
   "metadata": {},
   "outputs": [
    {
     "data": {
      "text/plain": [
       "[Text(0.4, 0.8333333333333334, 'X[11] <= 0.5\\nentropy = 1.299\\nsamples = 590\\nvalue = [358, 169, 63]'),\n",
       " Text(0.2, 0.5, 'entropy = 0.0\\nsamples = 358\\nvalue = [358, 0, 0]'),\n",
       " Text(0.6, 0.5, 'X[7] <= 804337.5\\nentropy = 0.844\\nsamples = 232\\nvalue = [0, 169, 63]'),\n",
       " Text(0.4, 0.16666666666666666, 'entropy = 0.0\\nsamples = 169\\nvalue = [0, 169, 0]'),\n",
       " Text(0.8, 0.16666666666666666, 'entropy = 0.0\\nsamples = 63\\nvalue = [0, 0, 63]')]"
      ]
     },
     "execution_count": 13,
     "metadata": {},
     "output_type": "execute_result"
    },
    {
     "data": {
      "image/png": "[encoded data removed]",
      "text/plain": [
       "<Figure size 640x480 with 1 Axes>"
      ]
     },
     "metadata": {},
     "output_type": "display_data"
    }
   ],
   "source": [
    " tree.plot_tree(MyDT)"
   ]
  },
  {
   "cell_type": "code",
   "execution_count": 14,
   "id": "3c35498d",
   "metadata": {},
   "outputs": [],
   "source": [
    "from sklearn.naive_bayes import MultinomialNB\n",
    "MyModelNB= MultinomialNB()\n",
    "NB1=MyModelNB.fit(TrainDF1, Train1Labels)\n",
    "Prediction1 = MyModelNB.predict(TestDF1)"
   ]
  },
  {
   "cell_type": "code",
   "execution_count": 15,
   "id": "2d17eed1",
   "metadata": {},
   "outputs": [
    {
     "name": "stdout",
     "output_type": "stream",
     "text": [
      "\n",
      "The confusion matrix is:\n",
      "[[126  17  11]\n",
      " [ 20  20  28]\n",
      " [  0  12  19]]\n"
     ]
    }
   ],
   "source": [
    "from sklearn.metrics import confusion_matrix\n",
    "\n",
    "cnf_matrix1 = confusion_matrix(Test1Labels, Prediction1)\n",
    "print(\"\\nThe confusion matrix is:\")\n",
    "print(cnf_matrix1)\n"
   ]
  },
  {
   "cell_type": "code",
   "execution_count": 16,
   "id": "bb567629",
   "metadata": {},
   "outputs": [
    {
     "data": {
      "image/png": "[encoded data removed]",
      "text/plain": [
       "<Figure size 640x480 with 2 Axes>"
      ]
     },
     "metadata": {},
     "output_type": "display_data"
    }
   ],
   "source": [
    "sns.heatmap(cnf_matrix1, annot=True, fmt='d', cmap='Blues')\n",
    "plt.xlabel('Predicted labels')\n",
    "plt.ylabel('True labels')\n",
    "plt.show()\n"
   ]
  },
  {
   "cell_type": "code",
   "execution_count": 31,
   "id": "a830567f",
   "metadata": {},
   "outputs": [
    {
     "name": "stdout",
     "output_type": "stream",
     "text": [
      "\n",
      "The Accuracy Score is:\n"
     ]
    },
    {
     "data": {
      "text/plain": [
       "0.9644268774703557"
      ]
     },
     "execution_count": 31,
     "metadata": {},
     "output_type": "execute_result"
    }
   ],
   "source": [
    "# SVM\n",
    "svm = SVC(kernel='rbf', C=1)\n",
    "svm.fit(TrainDF1, Train1Labels)\n",
    "pred= svm.predict(TestDF1)\n",
    "print(\"\\nThe Accuracy Score is:\")\n",
    "accuracy_score(Test1Labels,pred)"
   ]
  },
  {
   "cell_type": "code",
   "execution_count": 32,
   "id": "18cdaced",
   "metadata": {},
   "outputs": [
    {
     "name": "stdout",
     "output_type": "stream",
     "text": [
      "\n",
      "The confusion matrix is:\n",
      "[[151   3   0]\n",
      " [  2  65   1]\n",
      " [  0   3  28]]\n"
     ]
    }
   ],
   "source": [
    "cnf_matrix2 = confusion_matrix(Test1Labels, pred)\n",
    "print(\"\\nThe confusion matrix is:\")\n",
    "print(cnf_matrix2)"
   ]
  },
  {
   "cell_type": "code",
   "execution_count": 33,
   "id": "57eb8991",
   "metadata": {},
   "outputs": [
    {
     "data": {
      "image/png": "[encoded data removed]",
      "text/plain": [
       "<Figure size 640x480 with 2 Axes>"
      ]
     },
     "metadata": {},
     "output_type": "display_data"
    }
   ],
   "source": [
    "sns.heatmap(cnf_matrix2, annot=True, fmt='d', cmap='Blues')\n",
    "plt.xlabel('Predicted labels')\n",
    "plt.ylabel('True labels')\n",
    "plt.show()"
   ]
  },
  {
   "cell_type": "code",
   "execution_count": 34,
   "id": "c58e4861",
   "metadata": {},
   "outputs": [
    {
     "name": "stdout",
     "output_type": "stream",
     "text": [
      "\n",
      "The Accuracy Score is:\n"
     ]
    },
    {
     "data": {
      "text/plain": [
       "0.9723320158102767"
      ]
     },
     "execution_count": 34,
     "metadata": {},
     "output_type": "execute_result"
    }
   ],
   "source": [
    "svm = SVC(kernel='rbf', C=2)\n",
    "svm.fit(TrainDF1, Train1Labels)\n",
    "pred= svm.predict(TestDF1)\n",
    "print(\"\\nThe Accuracy Score is:\")\n",
    "accuracy_score(Test1Labels,pred)"
   ]
  },
  {
   "cell_type": "code",
   "execution_count": 35,
   "id": "ce69eebd",
   "metadata": {},
   "outputs": [
    {
     "name": "stdout",
     "output_type": "stream",
     "text": [
      "\n",
      "The confusion matrix is:\n",
      "[[151   3   0]\n",
      " [  2  65   1]\n",
      " [  0   1  30]]\n"
     ]
    }
   ],
   "source": [
    "cnf_matrix2 = confusion_matrix(Test1Labels, pred)\n",
    "print(\"\\nThe confusion matrix is:\")\n",
    "print(cnf_matrix2)"
   ]
  },
  {
   "cell_type": "code",
   "execution_count": 36,
   "id": "bc870fbc",
   "metadata": {},
   "outputs": [
    {
     "data": {
      "image/png": "[encoded data removed]",
      "text/plain": [
       "<Figure size 640x480 with 2 Axes>"
      ]
     },
     "metadata": {},
     "output_type": "display_data"
    }
   ],
   "source": [
    "sns.heatmap(cnf_matrix2, annot=True, fmt='d', cmap='Blues')\n",
    "plt.xlabel('Predicted labels')\n",
    "plt.ylabel('True labels')\n",
    "plt.show()"
   ]
  },
  {
   "cell_type": "code",
   "execution_count": 37,
   "id": "13818f6a",
   "metadata": {},
   "outputs": [
    {
     "name": "stdout",
     "output_type": "stream",
     "text": [
      "\n",
      "The Accuracy Score is:\n"
     ]
    },
    {
     "data": {
      "text/plain": [
       "0.9802371541501976"
      ]
     },
     "execution_count": 37,
     "metadata": {},
     "output_type": "execute_result"
    }
   ],
   "source": [
    "svm = SVC(kernel='rbf', C=3)\n",
    "svm.fit(TrainDF1, Train1Labels)\n",
    "pred= svm.predict(TestDF1)\n",
    "print(\"\\nThe Accuracy Score is:\")\n",
    "accuracy_score(Test1Labels,pred)"
   ]
  },
  {
   "cell_type": "code",
   "execution_count": 38,
   "id": "e16784d3",
   "metadata": {},
   "outputs": [
    {
     "name": "stdout",
     "output_type": "stream",
     "text": [
      "\n",
      "The confusion matrix is:\n",
      "[[151   3   0]\n",
      " [  1  67   0]\n",
      " [  0   1  30]]\n"
     ]
    }
   ],
   "source": [
    "cnf_matrix2 = confusion_matrix(Test1Labels, pred)\n",
    "print(\"\\nThe confusion matrix is:\")\n",
    "print(cnf_matrix2)"
   ]
  },
  {
   "cell_type": "code",
   "execution_count": 39,
   "id": "bd919f48",
   "metadata": {},
   "outputs": [
    {
     "data": {
      "image/png": "[encoded data removed]",
      "text/plain": [
       "<Figure size 640x480 with 2 Axes>"
      ]
     },
     "metadata": {},
     "output_type": "display_data"
    }
   ],
   "source": [
    "sns.heatmap(cnf_matrix2, annot=True, fmt='d', cmap='Blues')\n",
    "plt.xlabel('Predicted labels')\n",
    "plt.ylabel('True labels')\n",
    "plt.show()"
   ]
  },
  {
   "cell_type": "code",
   "execution_count": 40,
   "id": "91d60f5a",
   "metadata": {},
   "outputs": [
    {
     "name": "stdout",
     "output_type": "stream",
     "text": [
      "\n",
      "The Accuracy Score is:\n"
     ]
    },
    {
     "data": {
      "text/plain": [
       "0.9644268774703557"
      ]
     },
     "execution_count": 40,
     "metadata": {},
     "output_type": "execute_result"
    }
   ],
   "source": [
    "svm = SVC(kernel='poly', C=1)\n",
    "svm.fit(TrainDF1, Train1Labels)\n",
    "pred= svm.predict(TestDF1)\n",
    "print(\"\\nThe Accuracy Score is:\")\n",
    "accuracy_score(Test1Labels,pred)"
   ]
  },
  {
   "cell_type": "code",
   "execution_count": 41,
   "id": "6eebf014",
   "metadata": {},
   "outputs": [
    {
     "name": "stdout",
     "output_type": "stream",
     "text": [
      "\n",
      "The confusion matrix is:\n",
      "[[151   3   0]\n",
      " [  5  63   0]\n",
      " [  0   1  30]]\n"
     ]
    }
   ],
   "source": [
    "cnf_matrix2 = confusion_matrix(Test1Labels, pred)\n",
    "print(\"\\nThe confusion matrix is:\")\n",
    "print(cnf_matrix2)"
   ]
  },
  {
   "cell_type": "code",
   "execution_count": 42,
   "id": "9903077a",
   "metadata": {},
   "outputs": [
    {
     "data": {
      "image/png": "[encoded data removed]",
      "text/plain": [
       "<Figure size 640x480 with 2 Axes>"
      ]
     },
     "metadata": {},
     "output_type": "display_data"
    }
   ],
   "source": [
    "sns.heatmap(cnf_matrix2, annot=True, fmt='d', cmap='Blues')\n",
    "plt.xlabel('Predicted labels')\n",
    "plt.ylabel('True labels')\n",
    "plt.show()"
   ]
  },
  {
   "cell_type": "code",
   "execution_count": 43,
   "id": "de8875b4",
   "metadata": {},
   "outputs": [
    {
     "name": "stdout",
     "output_type": "stream",
     "text": [
      "\n",
      "The Accuracy Score is:\n"
     ]
    },
    {
     "data": {
      "text/plain": [
       "0.9683794466403162"
      ]
     },
     "execution_count": 43,
     "metadata": {},
     "output_type": "execute_result"
    }
   ],
   "source": [
    "svm = SVC(kernel='poly', C=2)\n",
    "svm.fit(TrainDF1, Train1Labels)\n",
    "pred= svm.predict(TestDF1)\n",
    "print(\"\\nThe Accuracy Score is:\")\n",
    "accuracy_score(Test1Labels,pred)"
   ]
  },
  {
   "cell_type": "code",
   "execution_count": 44,
   "id": "51a3dee3",
   "metadata": {},
   "outputs": [
    {
     "name": "stdout",
     "output_type": "stream",
     "text": [
      "\n",
      "The confusion matrix is:\n",
      "[[151   3   0]\n",
      " [  4  64   0]\n",
      " [  0   1  30]]\n"
     ]
    }
   ],
   "source": [
    "cnf_matrix2 = confusion_matrix(Test1Labels, pred)\n",
    "print(\"\\nThe confusion matrix is:\")\n",
    "print(cnf_matrix2)"
   ]
  },
  {
   "cell_type": "code",
   "execution_count": 45,
   "id": "7bf77f21",
   "metadata": {},
   "outputs": [
    {
     "data": {
      "image/png": "[encoded data removed]",
      "text/plain": [
       "<Figure size 640x480 with 2 Axes>"
      ]
     },
     "metadata": {},
     "output_type": "display_data"
    }
   ],
   "source": [
    "sns.heatmap(cnf_matrix2, annot=True, fmt='d', cmap='Blues')\n",
    "plt.xlabel('Predicted labels')\n",
    "plt.ylabel('True labels')\n",
    "plt.show()"
   ]
  },
  {
   "cell_type": "code",
   "execution_count": 46,
   "id": "dc0154c9",
   "metadata": {},
   "outputs": [
    {
     "name": "stdout",
     "output_type": "stream",
     "text": [
      "\n",
      "The Accuracy Score is:\n"
     ]
    },
    {
     "data": {
      "text/plain": [
       "0.9683794466403162"
      ]
     },
     "execution_count": 46,
     "metadata": {},
     "output_type": "execute_result"
    }
   ],
   "source": [
    "svm = SVC(kernel='poly', C=3)\n",
    "svm.fit(TrainDF1, Train1Labels)\n",
    "pred= svm.predict(TestDF1)\n",
    "print(\"\\nThe Accuracy Score is:\")\n",
    "accuracy_score(Test1Labels,pred)"
   ]
  },
  {
   "cell_type": "code",
   "execution_count": 47,
   "id": "49aa9c39",
   "metadata": {},
   "outputs": [
    {
     "name": "stdout",
     "output_type": "stream",
     "text": [
      "\n",
      "The confusion matrix is:\n",
      "[[151   3   0]\n",
      " [  4  64   0]\n",
      " [  0   1  30]]\n"
     ]
    }
   ],
   "source": [
    "cnf_matrix2 = confusion_matrix(Test1Labels, pred)\n",
    "print(\"\\nThe confusion matrix is:\")\n",
    "print(cnf_matrix2)"
   ]
  },
  {
   "cell_type": "code",
   "execution_count": 48,
   "id": "6437dbfa",
   "metadata": {},
   "outputs": [
    {
     "data": {
      "image/png": "[encoded data removed]",
      "text/plain": [
       "<Figure size 640x480 with 2 Axes>"
      ]
     },
     "metadata": {},
     "output_type": "display_data"
    }
   ],
   "source": [
    "sns.heatmap(cnf_matrix2, annot=True, fmt='d', cmap='Blues')\n",
    "plt.xlabel('Predicted labels')\n",
    "plt.ylabel('True labels')\n",
    "plt.show()"
   ]
  },
  {
   "cell_type": "code",
   "execution_count": 52,
   "id": "6e859591",
   "metadata": {},
   "outputs": [
    {
     "name": "stdout",
     "output_type": "stream",
     "text": [
      "\n",
      "The Accuracy Score is:\n"
     ]
    },
    {
     "data": {
      "text/plain": [
       "1.0"
      ]
     },
     "execution_count": 52,
     "metadata": {},
     "output_type": "execute_result"
    }
   ],
   "source": [
    "svm = SVC(kernel='linear', C=1)\n",
    "svm.fit(TrainDF1, Train1Labels)\n",
    "pred= svm.predict(TestDF1)\n",
    "print(\"\\nThe Accuracy Score is:\")\n",
    "accuracy_score(Test1Labels,pred)"
   ]
  },
  {
   "cell_type": "code",
   "execution_count": 53,
   "id": "a943bd31",
   "metadata": {},
   "outputs": [
    {
     "name": "stdout",
     "output_type": "stream",
     "text": [
      "\n",
      "The confusion matrix is:\n",
      "[[154   0   0]\n",
      " [  0  68   0]\n",
      " [  0   0  31]]\n"
     ]
    }
   ],
   "source": [
    "cnf_matrix2 = confusion_matrix(Test1Labels, pred)\n",
    "print(\"\\nThe confusion matrix is:\")\n",
    "print(cnf_matrix2)"
   ]
  },
  {
   "cell_type": "code",
   "execution_count": 54,
   "id": "3425f384",
   "metadata": {},
   "outputs": [
    {
     "data": {
      "image/png": "[encoded data removed]",
      "text/plain": [
       "<Figure size 640x480 with 2 Axes>"
      ]
     },
     "metadata": {},
     "output_type": "display_data"
    }
   ],
   "source": [
    "sns.heatmap(cnf_matrix2, annot=True, fmt='d', cmap='Blues')\n",
    "plt.xlabel('Predicted labels')\n",
    "plt.ylabel('True labels')\n",
    "plt.show()"
   ]
  },
  {
   "cell_type": "code",
   "execution_count": 55,
   "id": "83a4f3bb",
   "metadata": {},
   "outputs": [
    {
     "name": "stdout",
     "output_type": "stream",
     "text": [
      "\n",
      "The Accuracy Score is:\n"
     ]
    },
    {
     "data": {
      "text/plain": [
       "1.0"
      ]
     },
     "execution_count": 55,
     "metadata": {},
     "output_type": "execute_result"
    }
   ],
   "source": [
    "svm = SVC(kernel='linear', C=2)\n",
    "svm.fit(TrainDF1, Train1Labels)\n",
    "pred= svm.predict(TestDF1)\n",
    "print(\"\\nThe Accuracy Score is:\")\n",
    "accuracy_score(Test1Labels,pred)"
   ]
  },
  {
   "cell_type": "code",
   "execution_count": 56,
   "id": "f74e3cb8",
   "metadata": {},
   "outputs": [
    {
     "name": "stdout",
     "output_type": "stream",
     "text": [
      "\n",
      "The confusion matrix is:\n",
      "[[154   0   0]\n",
      " [  0  68   0]\n",
      " [  0   0  31]]\n"
     ]
    }
   ],
   "source": [
    "cnf_matrix2 = confusion_matrix(Test1Labels, pred)\n",
    "print(\"\\nThe confusion matrix is:\")\n",
    "print(cnf_matrix2)"
   ]
  },
  {
   "cell_type": "code",
   "execution_count": 57,
   "id": "661da710",
   "metadata": {},
   "outputs": [
    {
     "data": {
      "image/png": "[encoded data removed]",
      "text/plain": [
       "<Figure size 640x480 with 2 Axes>"
      ]
     },
     "metadata": {},
     "output_type": "display_data"
    }
   ],
   "source": [
    "sns.heatmap(cnf_matrix2, annot=True, fmt='d', cmap='Blues')\n",
    "plt.xlabel('Predicted labels')\n",
    "plt.ylabel('True labels')\n",
    "plt.show()"
   ]
  },
  {
   "cell_type": "code",
   "execution_count": 58,
   "id": "930f3cda",
   "metadata": {},
   "outputs": [
    {
     "name": "stdout",
     "output_type": "stream",
     "text": [
      "\n",
      "The Accuracy Score is:\n"
     ]
    },
    {
     "data": {
      "text/plain": [
       "1.0"
      ]
     },
     "execution_count": 58,
     "metadata": {},
     "output_type": "execute_result"
    }
   ],
   "source": [
    "svm = SVC(kernel='linear', C=3)\n",
    "svm.fit(TrainDF1, Train1Labels)\n",
    "pred= svm.predict(TestDF1)\n",
    "print(\"\\nThe Accuracy Score is:\")\n",
    "accuracy_score(Test1Labels,pred)"
   ]
  },
  {
   "cell_type": "code",
   "execution_count": 59,
   "id": "2619d07f",
   "metadata": {},
   "outputs": [
    {
     "name": "stdout",
     "output_type": "stream",
     "text": [
      "\n",
      "The confusion matrix is:\n",
      "[[154   0   0]\n",
      " [  0  68   0]\n",
      " [  0   0  31]]\n"
     ]
    }
   ],
   "source": [
    "cnf_matrix2 = confusion_matrix(Test1Labels, pred)\n",
    "print(\"\\nThe confusion matrix is:\")\n",
    "print(cnf_matrix2)"
   ]
  },
  {
   "cell_type": "code",
   "execution_count": 60,
   "id": "ca27ffec",
   "metadata": {},
   "outputs": [
    {
     "data": {
      "image/png": "[encoded data removed]",
      "text/plain": [
       "<Figure size 640x480 with 2 Axes>"
      ]
     },
     "metadata": {},
     "output_type": "display_data"
    }
   ],
   "source": [
    "sns.heatmap(cnf_matrix2, annot=True, fmt='d', cmap='Blues')\n",
    "plt.xlabel('Predicted labels')\n",
    "plt.ylabel('True labels')\n",
    "plt.show()"
   ]
  },
  {
   "cell_type": "code",
   "execution_count": null,
   "id": "2779129b",
   "metadata": {},
   "outputs": [],
   "source": []
  }
 ],
 "metadata": {
  "kernelspec": {
   "display_name": "Python 3 (ipykernel)",
   "language": "python",
   "name": "python3"
  },
  "language_info": {
   "codemirror_mode": {
    "name": "ipython",
    "version": 3
   },
   "file_extension": ".py",
   "mimetype": "text/x-python",
   "name": "python",
   "nbconvert_exporter": "python",
   "pygments_lexer": "ipython3",
   "version": "3.9.13"
  }
 },
 "nbformat": 4,
 "nbformat_minor": 5
}
